{
 "cells": [
  {
   "cell_type": "markdown",
   "id": "70d833ff",
   "metadata": {},
   "source": [
    "# Advent of Code 2022 with Pandas\n",
    "\n",
    "* https://adventofcode.com/2022/"
   ]
  },
  {
   "cell_type": "code",
   "execution_count": 1,
   "id": "b571a226",
   "metadata": {},
   "outputs": [],
   "source": [
    "import pandas as pd\n",
    "import numpy as np\n",
    "\n",
    "def display_data(day, n):\n",
    "    '''\n",
    "    Displays the top n lines from day data\n",
    "    \n",
    "    Example\n",
    "    -------\n",
    "    display_data(1, 10) # displays the top 10 lines from the first day's data\n",
    "    '''\n",
    "    with open(f'data/day{day}.txt') as f:\n",
    "        for _ in range(n):\n",
    "            print(f.readline(), end='')"
   ]
  },
  {
   "cell_type": "markdown",
   "id": "059a9c85",
   "metadata": {},
   "source": [
    "# Day 1a\n",
    "\n",
    "Find max total in a group. Each group is separated by a blank line in the file."
   ]
  },
  {
   "cell_type": "code",
   "execution_count": 2,
   "id": "3e45248a",
   "metadata": {},
   "outputs": [
    {
     "name": "stdout",
     "output_type": "stream",
     "text": [
      "9524\n",
      "12618\n",
      "6755\n",
      "2121\n",
      "12876\n",
      "11330\n",
      "\n",
      "4029\n",
      "11446\n",
      "11571\n",
      "2683\n",
      "3454\n",
      "12411\n",
      "\n",
      "6226\n",
      "9901\n",
      "6735\n",
      "7602\n",
      "4045\n",
      "4643\n"
     ]
    }
   ],
   "source": [
    "display_data(1, 20)"
   ]
  },
  {
   "cell_type": "code",
   "execution_count": 3,
   "id": "c1b8861e",
   "metadata": {
    "cell_style": "split"
   },
   "outputs": [
    {
     "data": {
      "text/plain": [
       "0      9524.0\n",
       "1     12618.0\n",
       "2      6755.0\n",
       "3      2121.0\n",
       "4     12876.0\n",
       "5     11330.0\n",
       "6         NaN\n",
       "7      4029.0\n",
       "8     11446.0\n",
       "9     11571.0\n",
       "10     2683.0\n",
       "11     3454.0\n",
       "12    12411.0\n",
       "13        NaN\n",
       "14     6226.0\n",
       "15     9901.0\n",
       "16     6735.0\n",
       "17     7602.0\n",
       "18     4045.0\n",
       "19     4643.0\n",
       "Name: 0, dtype: float64"
      ]
     },
     "execution_count": 3,
     "metadata": {},
     "output_type": "execute_result"
    }
   ],
   "source": [
    "s = pd.read_csv('data/day1.txt', header=None, \n",
    "                skip_blank_lines=False).squeeze()\n",
    "s.head(20)"
   ]
  },
  {
   "cell_type": "code",
   "execution_count": 7,
   "id": "8b7be0f7",
   "metadata": {
    "cell_style": "split"
   },
   "outputs": [
    {
     "data": {
      "text/plain": [
       "0     0\n",
       "1     0\n",
       "2     0\n",
       "3     0\n",
       "4     0\n",
       "5     0\n",
       "6     1\n",
       "7     1\n",
       "8     1\n",
       "9     1\n",
       "10    1\n",
       "11    1\n",
       "12    1\n",
       "13    2\n",
       "14    2\n",
       "15    2\n",
       "16    2\n",
       "17    2\n",
       "18    2\n",
       "19    2\n",
       "Name: 0, dtype: int64"
      ]
     },
     "execution_count": 7,
     "metadata": {},
     "output_type": "execute_result"
    }
   ],
   "source": [
    "groups = s.isna().cumsum()\n",
    "groups.head(20)\n"
   ]
  },
  {
   "cell_type": "code",
   "execution_count": 8,
   "id": "7cd0ec0f",
   "metadata": {
    "cell_style": "split"
   },
   "outputs": [
    {
     "data": {
      "text/plain": [
       "0\n",
       "0    55224.0\n",
       "1    45594.0\n",
       "2    46528.0\n",
       "3    44989.0\n",
       "4    34883.0\n",
       "Name: 0, dtype: float64"
      ]
     },
     "execution_count": 8,
     "metadata": {},
     "output_type": "execute_result"
    }
   ],
   "source": [
    "group_total = s.groupby(groups).sum()\n",
    "group_total.head()"
   ]
  },
  {
   "cell_type": "code",
   "execution_count": 9,
   "id": "e16f2e3f",
   "metadata": {
    "cell_style": "split"
   },
   "outputs": [
    {
     "data": {
      "text/plain": [
       "73211.0"
      ]
     },
     "execution_count": 9,
     "metadata": {},
     "output_type": "execute_result"
    }
   ],
   "source": [
    "group_total.max()"
   ]
  },
  {
   "cell_type": "markdown",
   "id": "94b9b3f0",
   "metadata": {},
   "source": [
    "# Day 1b\n",
    "\n",
    "Total the largest 3 groups"
   ]
  },
  {
   "cell_type": "code",
   "execution_count": 11,
   "id": "3d39facd",
   "metadata": {},
   "outputs": [
    {
     "data": {
      "text/plain": [
       "213958.0"
      ]
     },
     "execution_count": 11,
     "metadata": {},
     "output_type": "execute_result"
    }
   ],
   "source": [
    "group_total.nlargest(3).sum()"
   ]
  },
  {
   "cell_type": "markdown",
   "id": "bbc7de39",
   "metadata": {},
   "source": [
    "## Master Data Analysis with Python\n",
    "\n",
    "[Comprehensive text on doing data analysis with Pandas][1]\n",
    "\n",
    "* 500+ exercises\n",
    "* Video lessons\n",
    "* Certification exams\n",
    "\n",
    "[1]: https://dunderdata.com/master-data-analysis-with-python"
   ]
  }
 ],
 "metadata": {
  "kernelspec": {
   "display_name": "Python 3 (ipykernel)",
   "language": "python",
   "name": "python3"
  },
  "language_info": {
   "codemirror_mode": {
    "name": "ipython",
    "version": 3
   },
   "file_extension": ".py",
   "mimetype": "text/x-python",
   "name": "python",
   "nbconvert_exporter": "python",
   "pygments_lexer": "ipython3",
   "version": "3.8.11"
  }
 },
 "nbformat": 4,
 "nbformat_minor": 5
}
