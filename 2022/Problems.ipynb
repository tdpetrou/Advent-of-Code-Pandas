{
 "cells": [
  {
   "cell_type": "markdown",
   "id": "70d833ff",
   "metadata": {},
   "source": [
    "# Advent of Code 2022 with Pandas\n",
    "\n",
    "* https://adventofcode.com/2022/"
   ]
  },
  {
   "cell_type": "code",
   "execution_count": 1,
   "id": "b571a226",
   "metadata": {},
   "outputs": [],
   "source": [
    "import pandas as pd\n",
    "import numpy as np\n",
    "\n",
    "def display_data(day, n):\n",
    "    '''\n",
    "    Displays the top n lines from day data\n",
    "    \n",
    "    Example\n",
    "    -------\n",
    "    display_data(1, 10) # displays the top 10 lines from the first day's data\n",
    "    '''\n",
    "    with open(f'data/day{day}.txt') as f:\n",
    "        for _ in range(n):\n",
    "            print(f.readline(), end='')"
   ]
  },
  {
   "cell_type": "markdown",
   "id": "059a9c85",
   "metadata": {},
   "source": [
    "# Day 1a\n",
    "\n",
    "Find max total in a group. Each group is separated by a blank line in the file."
   ]
  },
  {
   "cell_type": "code",
   "execution_count": null,
   "id": "3e45248a",
   "metadata": {},
   "outputs": [],
   "source": [
    "display_data(1, 20)"
   ]
  },
  {
   "cell_type": "code",
   "execution_count": null,
   "id": "c1b8861e",
   "metadata": {
    "cell_style": "split"
   },
   "outputs": [],
   "source": [
    "s = pd.read_csv('data/day1.txt', header=None, \n",
    "                skip_blank_lines=False).squeeze()\n",
    "s.head(20)"
   ]
  },
  {
   "cell_type": "code",
   "execution_count": null,
   "id": "8b7be0f7",
   "metadata": {
    "cell_style": "split"
   },
   "outputs": [],
   "source": [
    "groups = s.isna().cumsum()\n",
    "groups.head(20)\n"
   ]
  },
  {
   "cell_type": "code",
   "execution_count": null,
   "id": "7cd0ec0f",
   "metadata": {
    "cell_style": "split"
   },
   "outputs": [],
   "source": [
    "group_total = s.groupby(groups).sum()\n",
    "group_total.head()"
   ]
  },
  {
   "cell_type": "code",
   "execution_count": null,
   "id": "e16f2e3f",
   "metadata": {
    "cell_style": "split"
   },
   "outputs": [],
   "source": [
    "group_total.max()"
   ]
  },
  {
   "cell_type": "markdown",
   "id": "94b9b3f0",
   "metadata": {},
   "source": [
    "# Day 1b\n",
    "\n",
    "Total the largest 3 groups"
   ]
  },
  {
   "cell_type": "code",
   "execution_count": null,
   "id": "3d39facd",
   "metadata": {},
   "outputs": [],
   "source": [
    "group_total.nlargest(3).sum()"
   ]
  },
  {
   "cell_type": "markdown",
   "id": "3e195f1b",
   "metadata": {},
   "source": [
    "## Master Data Analysis with Python\n",
    "\n",
    "[Comprehensive text on doing data analysis with Pandas][1]\n",
    "\n",
    "* 500+ exercises\n",
    "* Video lessons\n",
    "* Certification exams\n",
    "\n",
    "[1]: https://dunderdata.com/master-data-analysis-with-python"
   ]
  },
  {
   "cell_type": "markdown",
   "id": "d6ba2c62",
   "metadata": {},
   "source": [
    "# Day 2a \n",
    "\n",
    "Play rock, paper, scissors vs opponent\n",
    "* First column opponent\n",
    "    * A - rock\n",
    "    * B - paper\n",
    "    * C - scissors\n",
    "* Second column you\n",
    "    * X - rock\n",
    "    * Y - paper\n",
    "    * Z - scissors\n",
    "    \n",
    "The score for a single round is the score for the shape you selected (1 for Rock, 2 for Paper, and 3 for Scissors) plus the score for the outcome of the round (0 if you lost, 3 if the round was a draw, and 6 if you won)."
   ]
  },
  {
   "cell_type": "code",
   "execution_count": 2,
   "id": "a5b0a2b0",
   "metadata": {},
   "outputs": [
    {
     "name": "stdout",
     "output_type": "stream",
     "text": [
      "A Y\n",
      "B Y\n",
      "B Z\n",
      "B Z\n",
      "B X\n",
      "B Z\n",
      "C Y\n",
      "A Z\n",
      "C X\n",
      "C X\n"
     ]
    }
   ],
   "source": [
    "display_data(2, 10)"
   ]
  },
  {
   "cell_type": "code",
   "execution_count": 3,
   "id": "f8b21308",
   "metadata": {},
   "outputs": [
    {
     "data": {
      "text/plain": [
       "0    A Y\n",
       "1    B Y\n",
       "2    B Z\n",
       "3    B Z\n",
       "4    B X\n",
       "5    B Z\n",
       "6    C Y\n",
       "7    A Z\n",
       "8    C X\n",
       "9    C X\n",
       "Name: 0, dtype: object"
      ]
     },
     "execution_count": 3,
     "metadata": {},
     "output_type": "execute_result"
    }
   ],
   "source": [
    "s = pd.read_csv('data/day2.txt', header=None).squeeze()\n",
    "s.head(10)"
   ]
  },
  {
   "cell_type": "code",
   "execution_count": 5,
   "id": "d46a77d5",
   "metadata": {},
   "outputs": [
    {
     "data": {
      "text/plain": [
       "15422"
      ]
     },
     "execution_count": 5,
     "metadata": {},
     "output_type": "execute_result"
    }
   ],
   "source": [
    "s.replace({'A X': 4,\n",
    "           'A Y': 8,\n",
    "           'A Z': 3,\n",
    "           'B X': 1,\n",
    "           'B Y': 5,\n",
    "           'B Z': 9,\n",
    "           'C X': 7,\n",
    "           'C Y': 2,\n",
    "           'C Z': 6}).sum()"
   ]
  },
  {
   "cell_type": "markdown",
   "id": "799981c7",
   "metadata": {},
   "source": [
    "## Day 2b\n",
    "\n",
    "* X - lose\n",
    "* Y - draw\n",
    "* Z - win"
   ]
  },
  {
   "cell_type": "code",
   "execution_count": 6,
   "id": "5492158e",
   "metadata": {},
   "outputs": [
    {
     "data": {
      "text/plain": [
       "15442"
      ]
     },
     "execution_count": 6,
     "metadata": {},
     "output_type": "execute_result"
    }
   ],
   "source": [
    "s.replace({'A X': 3,\n",
    "           'A Y': 4,\n",
    "           'A Z': 8,\n",
    "           'B X': 1,\n",
    "           'B Y': 5,\n",
    "           'B Z': 9,\n",
    "           'C X': 2,\n",
    "           'C Y': 6,\n",
    "           'C Z': 7}).sum()"
   ]
  },
  {
   "cell_type": "markdown",
   "id": "4dbb0c13",
   "metadata": {},
   "source": [
    "## Master Data Analysis with Python\n",
    "\n",
    "[Comprehensive text on doing data analysis with Pandas][1]\n",
    "\n",
    "* 500+ exercises\n",
    "* Video lessons\n",
    "* Certification exams\n",
    "\n",
    "[1]: https://dunderdata.com/master-data-analysis-with-python"
   ]
  }
 ],
 "metadata": {
  "kernelspec": {
   "display_name": "Python 3 (ipykernel)",
   "language": "python",
   "name": "python3"
  },
  "language_info": {
   "codemirror_mode": {
    "name": "ipython",
    "version": 3
   },
   "file_extension": ".py",
   "mimetype": "text/x-python",
   "name": "python",
   "nbconvert_exporter": "python",
   "pygments_lexer": "ipython3",
   "version": "3.8.11"
  }
 },
 "nbformat": 4,
 "nbformat_minor": 5
}
