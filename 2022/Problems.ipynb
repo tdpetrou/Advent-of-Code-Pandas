{
 "cells": [
  {
   "cell_type": "markdown",
   "id": "70d833ff",
   "metadata": {},
   "source": [
    "# Advent of Code 2022 with Pandas\n",
    "\n",
    "* https://adventofcode.com/2022/"
   ]
  },
  {
   "cell_type": "code",
   "execution_count": 1,
   "id": "b571a226",
   "metadata": {},
   "outputs": [],
   "source": [
    "import pandas as pd\n",
    "import numpy as np\n",
    "\n",
    "def display_data(day, n):\n",
    "    '''\n",
    "    Displays the top n lines from day data\n",
    "    \n",
    "    Example\n",
    "    -------\n",
    "    display_data(1, 10) # displays the top 10 lines from the first day's data\n",
    "    '''\n",
    "    with open(f'data/day{day}.txt') as f:\n",
    "        for _ in range(n):\n",
    "            print(f.readline(), end='')"
   ]
  },
  {
   "cell_type": "markdown",
   "id": "059a9c85",
   "metadata": {},
   "source": [
    "# Day 1a\n",
    "\n",
    "Find max total in a group. Each group is separated by a blank line in the file."
   ]
  },
  {
   "cell_type": "code",
   "execution_count": 2,
   "id": "3e45248a",
   "metadata": {},
   "outputs": [
    {
     "name": "stdout",
     "output_type": "stream",
     "text": [
      "9524\n",
      "12618\n",
      "6755\n",
      "2121\n",
      "12876\n",
      "11330\n",
      "\n",
      "4029\n",
      "11446\n",
      "11571\n",
      "2683\n",
      "3454\n",
      "12411\n",
      "\n",
      "6226\n",
      "9901\n",
      "6735\n",
      "7602\n",
      "4045\n",
      "4643\n"
     ]
    }
   ],
   "source": [
    "display_data(1, 20)"
   ]
  },
  {
   "cell_type": "code",
   "execution_count": 3,
   "id": "c1b8861e",
   "metadata": {
    "cell_style": "split"
   },
   "outputs": [
    {
     "data": {
      "text/plain": [
       "0      9524.0\n",
       "1     12618.0\n",
       "2      6755.0\n",
       "3      2121.0\n",
       "4     12876.0\n",
       "5     11330.0\n",
       "6         NaN\n",
       "7      4029.0\n",
       "8     11446.0\n",
       "9     11571.0\n",
       "10     2683.0\n",
       "11     3454.0\n",
       "12    12411.0\n",
       "13        NaN\n",
       "14     6226.0\n",
       "15     9901.0\n",
       "16     6735.0\n",
       "17     7602.0\n",
       "18     4045.0\n",
       "19     4643.0\n",
       "Name: 0, dtype: float64"
      ]
     },
     "execution_count": 3,
     "metadata": {},
     "output_type": "execute_result"
    }
   ],
   "source": [
    "s = pd.read_csv('data/day1.txt', header=None, \n",
    "                skip_blank_lines=False).squeeze()\n",
    "s.head(20)"
   ]
  },
  {
   "cell_type": "code",
   "execution_count": 4,
   "id": "8b7be0f7",
   "metadata": {
    "cell_style": "split"
   },
   "outputs": [
    {
     "data": {
      "text/plain": [
       "0     0\n",
       "1     0\n",
       "2     0\n",
       "3     0\n",
       "4     0\n",
       "5     0\n",
       "6     1\n",
       "7     1\n",
       "8     1\n",
       "9     1\n",
       "10    1\n",
       "11    1\n",
       "12    1\n",
       "13    2\n",
       "14    2\n",
       "15    2\n",
       "16    2\n",
       "17    2\n",
       "18    2\n",
       "19    2\n",
       "Name: 0, dtype: int64"
      ]
     },
     "execution_count": 4,
     "metadata": {},
     "output_type": "execute_result"
    }
   ],
   "source": [
    "groups = s.isna().cumsum()\n",
    "groups.head(20)\n"
   ]
  },
  {
   "cell_type": "code",
   "execution_count": 5,
   "id": "7cd0ec0f",
   "metadata": {
    "cell_style": "split"
   },
   "outputs": [
    {
     "data": {
      "text/plain": [
       "0\n",
       "0    55224.0\n",
       "1    45594.0\n",
       "2    46528.0\n",
       "3    44989.0\n",
       "4    34883.0\n",
       "Name: 0, dtype: float64"
      ]
     },
     "execution_count": 5,
     "metadata": {},
     "output_type": "execute_result"
    }
   ],
   "source": [
    "group_total = s.groupby(groups).sum()\n",
    "group_total.head()"
   ]
  },
  {
   "cell_type": "code",
   "execution_count": 6,
   "id": "e16f2e3f",
   "metadata": {
    "cell_style": "split"
   },
   "outputs": [
    {
     "data": {
      "text/plain": [
       "73211.0"
      ]
     },
     "execution_count": 6,
     "metadata": {},
     "output_type": "execute_result"
    }
   ],
   "source": [
    "group_total.max()"
   ]
  },
  {
   "cell_type": "markdown",
   "id": "94b9b3f0",
   "metadata": {},
   "source": [
    "# Day 1b\n",
    "\n",
    "Total the largest 3 groups"
   ]
  },
  {
   "cell_type": "code",
   "execution_count": 7,
   "id": "3d39facd",
   "metadata": {},
   "outputs": [
    {
     "data": {
      "text/plain": [
       "213958.0"
      ]
     },
     "execution_count": 7,
     "metadata": {},
     "output_type": "execute_result"
    }
   ],
   "source": [
    "group_total.nlargest(3).sum()"
   ]
  },
  {
   "cell_type": "markdown",
   "id": "3e195f1b",
   "metadata": {},
   "source": [
    "## Master Data Analysis with Python\n",
    "\n",
    "[Comprehensive text on doing data analysis with Pandas][1]\n",
    "\n",
    "* 500+ exercises\n",
    "* Video lessons\n",
    "* Certification exams\n",
    "\n",
    "[1]: https://dunderdata.com/master-data-analysis-with-python"
   ]
  },
  {
   "cell_type": "markdown",
   "id": "d6ba2c62",
   "metadata": {},
   "source": [
    "# Day 2a \n",
    "\n",
    "Play rock, paper, scissors vs opponent\n",
    "* First column opponent\n",
    "    * A - rock\n",
    "    * B - paper\n",
    "    * C - scissors\n",
    "* Second column you\n",
    "    * X - rock\n",
    "    * Y - paper\n",
    "    * Z - scissors\n",
    "    \n",
    "The score for a single round is the score for the shape you selected (1 for Rock, 2 for Paper, and 3 for Scissors) plus the score for the outcome of the round (0 if you lost, 3 if the round was a draw, and 6 if you won)."
   ]
  },
  {
   "cell_type": "code",
   "execution_count": 8,
   "id": "a5b0a2b0",
   "metadata": {},
   "outputs": [
    {
     "name": "stdout",
     "output_type": "stream",
     "text": [
      "A Y\n",
      "B Y\n",
      "B Z\n",
      "B Z\n",
      "B X\n",
      "B Z\n",
      "C Y\n",
      "A Z\n",
      "C X\n",
      "C X\n"
     ]
    }
   ],
   "source": [
    "display_data(2, 10)"
   ]
  },
  {
   "cell_type": "code",
   "execution_count": 9,
   "id": "f8b21308",
   "metadata": {},
   "outputs": [
    {
     "data": {
      "text/plain": [
       "0    A Y\n",
       "1    B Y\n",
       "2    B Z\n",
       "3    B Z\n",
       "4    B X\n",
       "5    B Z\n",
       "6    C Y\n",
       "7    A Z\n",
       "8    C X\n",
       "9    C X\n",
       "Name: 0, dtype: object"
      ]
     },
     "execution_count": 9,
     "metadata": {},
     "output_type": "execute_result"
    }
   ],
   "source": [
    "s = pd.read_csv('data/day2.txt', header=None).squeeze()\n",
    "s.head(10)"
   ]
  },
  {
   "cell_type": "code",
   "execution_count": 10,
   "id": "d46a77d5",
   "metadata": {},
   "outputs": [
    {
     "data": {
      "text/plain": [
       "15422"
      ]
     },
     "execution_count": 10,
     "metadata": {},
     "output_type": "execute_result"
    }
   ],
   "source": [
    "s.replace({'A X': 4,\n",
    "           'A Y': 8,\n",
    "           'A Z': 3,\n",
    "           'B X': 1,\n",
    "           'B Y': 5,\n",
    "           'B Z': 9,\n",
    "           'C X': 7,\n",
    "           'C Y': 2,\n",
    "           'C Z': 6}).sum()"
   ]
  },
  {
   "cell_type": "markdown",
   "id": "799981c7",
   "metadata": {},
   "source": [
    "## Day 2b\n",
    "\n",
    "* X - lose\n",
    "* Y - draw\n",
    "* Z - win"
   ]
  },
  {
   "cell_type": "code",
   "execution_count": 11,
   "id": "5492158e",
   "metadata": {},
   "outputs": [
    {
     "data": {
      "text/plain": [
       "15442"
      ]
     },
     "execution_count": 11,
     "metadata": {},
     "output_type": "execute_result"
    }
   ],
   "source": [
    "s.replace({'A X': 3,\n",
    "           'A Y': 4,\n",
    "           'A Z': 8,\n",
    "           'B X': 1,\n",
    "           'B Y': 5,\n",
    "           'B Z': 9,\n",
    "           'C X': 2,\n",
    "           'C Y': 6,\n",
    "           'C Z': 7}).sum()"
   ]
  },
  {
   "cell_type": "markdown",
   "id": "4dbb0c13",
   "metadata": {},
   "source": [
    "## Master Data Analysis with Python\n",
    "\n",
    "[Comprehensive text on doing data analysis with Pandas][1]\n",
    "\n",
    "* 500+ exercises\n",
    "* Video lessons\n",
    "* Certification exams\n",
    "\n",
    "[1]: https://dunderdata.com/master-data-analysis-with-python"
   ]
  },
  {
   "cell_type": "markdown",
   "id": "5f858b61",
   "metadata": {},
   "source": [
    "## Day 3a"
   ]
  },
  {
   "cell_type": "code",
   "execution_count": 12,
   "id": "2907cb6a",
   "metadata": {},
   "outputs": [
    {
     "data": {
      "text/plain": [
       "0      FzQrhQpJtJMFzlpplrTWjTnTTrjVsVvvTnTs\n",
       "1    mScqSqqgcfPCqGPZcfGNSvTNsVVNSjNvWSNsNz\n",
       "2                    fPcPGqgCcHgFzQpJJtHtJH\n",
       "3              DZDqqlrjplDHrNCmnBcHBMCRcJzb\n",
       "4                        RQFLStFvdcBbzdJbJM\n",
       "Name: 0, dtype: object"
      ]
     },
     "execution_count": 12,
     "metadata": {},
     "output_type": "execute_result"
    }
   ],
   "source": [
    "s = pd.read_csv('data/day3.txt', header=None).squeeze()\n",
    "s.head()"
   ]
  },
  {
   "cell_type": "code",
   "execution_count": 13,
   "id": "a2f3e52e",
   "metadata": {},
   "outputs": [],
   "source": [
    "half1 = s.apply(lambda x: x[:len(x) // 2]).str.get_dummies('')"
   ]
  },
  {
   "cell_type": "code",
   "execution_count": 14,
   "id": "58dea100",
   "metadata": {},
   "outputs": [],
   "source": [
    "half2 = s.apply(lambda x: x[len(x) // 2:]).str.get_dummies('')"
   ]
  },
  {
   "cell_type": "code",
   "execution_count": 15,
   "id": "09b52e13",
   "metadata": {},
   "outputs": [
    {
     "data": {
      "text/plain": [
       "0      r\n",
       "1      S\n",
       "2      H\n",
       "3      H\n",
       "4      d\n",
       "      ..\n",
       "295    t\n",
       "296    C\n",
       "297    g\n",
       "298    Q\n",
       "299    T\n",
       "Length: 300, dtype: object"
      ]
     },
     "execution_count": 15,
     "metadata": {},
     "output_type": "execute_result"
    }
   ],
   "source": [
    "s1 = (half1 * half2).idxmax(axis=1)\n",
    "s1"
   ]
  },
  {
   "cell_type": "code",
   "execution_count": 16,
   "id": "8edb937c",
   "metadata": {},
   "outputs": [
    {
     "data": {
      "text/html": [
       "<div>\n",
       "<style scoped>\n",
       "    .dataframe tbody tr th:only-of-type {\n",
       "        vertical-align: middle;\n",
       "    }\n",
       "\n",
       "    .dataframe tbody tr th {\n",
       "        vertical-align: top;\n",
       "    }\n",
       "\n",
       "    .dataframe thead th {\n",
       "        text-align: right;\n",
       "    }\n",
       "</style>\n",
       "<table border=\"1\" class=\"dataframe\">\n",
       "  <thead>\n",
       "    <tr style=\"text-align: right;\">\n",
       "      <th></th>\n",
       "      <th>B</th>\n",
       "      <th>C</th>\n",
       "      <th>D</th>\n",
       "      <th>F</th>\n",
       "      <th>G</th>\n",
       "      <th>H</th>\n",
       "      <th>J</th>\n",
       "      <th>L</th>\n",
       "      <th>M</th>\n",
       "      <th>N</th>\n",
       "      <th>...</th>\n",
       "      <th>m</th>\n",
       "      <th>n</th>\n",
       "      <th>p</th>\n",
       "      <th>q</th>\n",
       "      <th>r</th>\n",
       "      <th>s</th>\n",
       "      <th>t</th>\n",
       "      <th>v</th>\n",
       "      <th>w</th>\n",
       "      <th>z</th>\n",
       "    </tr>\n",
       "  </thead>\n",
       "  <tbody>\n",
       "    <tr>\n",
       "      <th>0</th>\n",
       "      <td>0</td>\n",
       "      <td>0</td>\n",
       "      <td>0</td>\n",
       "      <td>0</td>\n",
       "      <td>0</td>\n",
       "      <td>0</td>\n",
       "      <td>0</td>\n",
       "      <td>0</td>\n",
       "      <td>0</td>\n",
       "      <td>0</td>\n",
       "      <td>...</td>\n",
       "      <td>0</td>\n",
       "      <td>0</td>\n",
       "      <td>0</td>\n",
       "      <td>0</td>\n",
       "      <td>1</td>\n",
       "      <td>0</td>\n",
       "      <td>0</td>\n",
       "      <td>0</td>\n",
       "      <td>0</td>\n",
       "      <td>0</td>\n",
       "    </tr>\n",
       "    <tr>\n",
       "      <th>1</th>\n",
       "      <td>0</td>\n",
       "      <td>0</td>\n",
       "      <td>0</td>\n",
       "      <td>0</td>\n",
       "      <td>0</td>\n",
       "      <td>0</td>\n",
       "      <td>0</td>\n",
       "      <td>0</td>\n",
       "      <td>0</td>\n",
       "      <td>0</td>\n",
       "      <td>...</td>\n",
       "      <td>0</td>\n",
       "      <td>0</td>\n",
       "      <td>0</td>\n",
       "      <td>0</td>\n",
       "      <td>0</td>\n",
       "      <td>0</td>\n",
       "      <td>0</td>\n",
       "      <td>0</td>\n",
       "      <td>0</td>\n",
       "      <td>0</td>\n",
       "    </tr>\n",
       "    <tr>\n",
       "      <th>2</th>\n",
       "      <td>0</td>\n",
       "      <td>0</td>\n",
       "      <td>0</td>\n",
       "      <td>0</td>\n",
       "      <td>0</td>\n",
       "      <td>1</td>\n",
       "      <td>0</td>\n",
       "      <td>0</td>\n",
       "      <td>0</td>\n",
       "      <td>0</td>\n",
       "      <td>...</td>\n",
       "      <td>0</td>\n",
       "      <td>0</td>\n",
       "      <td>0</td>\n",
       "      <td>0</td>\n",
       "      <td>0</td>\n",
       "      <td>0</td>\n",
       "      <td>0</td>\n",
       "      <td>0</td>\n",
       "      <td>0</td>\n",
       "      <td>0</td>\n",
       "    </tr>\n",
       "    <tr>\n",
       "      <th>3</th>\n",
       "      <td>0</td>\n",
       "      <td>0</td>\n",
       "      <td>0</td>\n",
       "      <td>0</td>\n",
       "      <td>0</td>\n",
       "      <td>1</td>\n",
       "      <td>0</td>\n",
       "      <td>0</td>\n",
       "      <td>0</td>\n",
       "      <td>0</td>\n",
       "      <td>...</td>\n",
       "      <td>0</td>\n",
       "      <td>0</td>\n",
       "      <td>0</td>\n",
       "      <td>0</td>\n",
       "      <td>0</td>\n",
       "      <td>0</td>\n",
       "      <td>0</td>\n",
       "      <td>0</td>\n",
       "      <td>0</td>\n",
       "      <td>0</td>\n",
       "    </tr>\n",
       "    <tr>\n",
       "      <th>4</th>\n",
       "      <td>0</td>\n",
       "      <td>0</td>\n",
       "      <td>0</td>\n",
       "      <td>0</td>\n",
       "      <td>0</td>\n",
       "      <td>0</td>\n",
       "      <td>0</td>\n",
       "      <td>0</td>\n",
       "      <td>0</td>\n",
       "      <td>0</td>\n",
       "      <td>...</td>\n",
       "      <td>0</td>\n",
       "      <td>0</td>\n",
       "      <td>0</td>\n",
       "      <td>0</td>\n",
       "      <td>0</td>\n",
       "      <td>0</td>\n",
       "      <td>0</td>\n",
       "      <td>0</td>\n",
       "      <td>0</td>\n",
       "      <td>0</td>\n",
       "    </tr>\n",
       "    <tr>\n",
       "      <th>...</th>\n",
       "      <td>...</td>\n",
       "      <td>...</td>\n",
       "      <td>...</td>\n",
       "      <td>...</td>\n",
       "      <td>...</td>\n",
       "      <td>...</td>\n",
       "      <td>...</td>\n",
       "      <td>...</td>\n",
       "      <td>...</td>\n",
       "      <td>...</td>\n",
       "      <td>...</td>\n",
       "      <td>...</td>\n",
       "      <td>...</td>\n",
       "      <td>...</td>\n",
       "      <td>...</td>\n",
       "      <td>...</td>\n",
       "      <td>...</td>\n",
       "      <td>...</td>\n",
       "      <td>...</td>\n",
       "      <td>...</td>\n",
       "      <td>...</td>\n",
       "    </tr>\n",
       "    <tr>\n",
       "      <th>295</th>\n",
       "      <td>0</td>\n",
       "      <td>0</td>\n",
       "      <td>0</td>\n",
       "      <td>0</td>\n",
       "      <td>0</td>\n",
       "      <td>0</td>\n",
       "      <td>0</td>\n",
       "      <td>0</td>\n",
       "      <td>0</td>\n",
       "      <td>0</td>\n",
       "      <td>...</td>\n",
       "      <td>0</td>\n",
       "      <td>0</td>\n",
       "      <td>0</td>\n",
       "      <td>0</td>\n",
       "      <td>0</td>\n",
       "      <td>0</td>\n",
       "      <td>1</td>\n",
       "      <td>0</td>\n",
       "      <td>0</td>\n",
       "      <td>0</td>\n",
       "    </tr>\n",
       "    <tr>\n",
       "      <th>296</th>\n",
       "      <td>0</td>\n",
       "      <td>1</td>\n",
       "      <td>0</td>\n",
       "      <td>0</td>\n",
       "      <td>0</td>\n",
       "      <td>0</td>\n",
       "      <td>0</td>\n",
       "      <td>0</td>\n",
       "      <td>0</td>\n",
       "      <td>0</td>\n",
       "      <td>...</td>\n",
       "      <td>0</td>\n",
       "      <td>0</td>\n",
       "      <td>0</td>\n",
       "      <td>0</td>\n",
       "      <td>0</td>\n",
       "      <td>0</td>\n",
       "      <td>0</td>\n",
       "      <td>0</td>\n",
       "      <td>0</td>\n",
       "      <td>0</td>\n",
       "    </tr>\n",
       "    <tr>\n",
       "      <th>297</th>\n",
       "      <td>0</td>\n",
       "      <td>0</td>\n",
       "      <td>0</td>\n",
       "      <td>0</td>\n",
       "      <td>0</td>\n",
       "      <td>0</td>\n",
       "      <td>0</td>\n",
       "      <td>0</td>\n",
       "      <td>0</td>\n",
       "      <td>0</td>\n",
       "      <td>...</td>\n",
       "      <td>0</td>\n",
       "      <td>0</td>\n",
       "      <td>0</td>\n",
       "      <td>0</td>\n",
       "      <td>0</td>\n",
       "      <td>0</td>\n",
       "      <td>0</td>\n",
       "      <td>0</td>\n",
       "      <td>0</td>\n",
       "      <td>0</td>\n",
       "    </tr>\n",
       "    <tr>\n",
       "      <th>298</th>\n",
       "      <td>0</td>\n",
       "      <td>0</td>\n",
       "      <td>0</td>\n",
       "      <td>0</td>\n",
       "      <td>0</td>\n",
       "      <td>0</td>\n",
       "      <td>0</td>\n",
       "      <td>0</td>\n",
       "      <td>0</td>\n",
       "      <td>0</td>\n",
       "      <td>...</td>\n",
       "      <td>0</td>\n",
       "      <td>0</td>\n",
       "      <td>0</td>\n",
       "      <td>0</td>\n",
       "      <td>0</td>\n",
       "      <td>0</td>\n",
       "      <td>0</td>\n",
       "      <td>0</td>\n",
       "      <td>0</td>\n",
       "      <td>0</td>\n",
       "    </tr>\n",
       "    <tr>\n",
       "      <th>299</th>\n",
       "      <td>0</td>\n",
       "      <td>0</td>\n",
       "      <td>0</td>\n",
       "      <td>0</td>\n",
       "      <td>0</td>\n",
       "      <td>0</td>\n",
       "      <td>0</td>\n",
       "      <td>0</td>\n",
       "      <td>0</td>\n",
       "      <td>0</td>\n",
       "      <td>...</td>\n",
       "      <td>0</td>\n",
       "      <td>0</td>\n",
       "      <td>0</td>\n",
       "      <td>0</td>\n",
       "      <td>0</td>\n",
       "      <td>0</td>\n",
       "      <td>0</td>\n",
       "      <td>0</td>\n",
       "      <td>0</td>\n",
       "      <td>0</td>\n",
       "    </tr>\n",
       "  </tbody>\n",
       "</table>\n",
       "<p>300 rows × 36 columns</p>\n",
       "</div>"
      ],
      "text/plain": [
       "     B  C  D  F  G  H  J  L  M  N  ...  m  n  p  q  r  s  t  v  w  z\n",
       "0    0  0  0  0  0  0  0  0  0  0  ...  0  0  0  0  1  0  0  0  0  0\n",
       "1    0  0  0  0  0  0  0  0  0  0  ...  0  0  0  0  0  0  0  0  0  0\n",
       "2    0  0  0  0  0  1  0  0  0  0  ...  0  0  0  0  0  0  0  0  0  0\n",
       "3    0  0  0  0  0  1  0  0  0  0  ...  0  0  0  0  0  0  0  0  0  0\n",
       "4    0  0  0  0  0  0  0  0  0  0  ...  0  0  0  0  0  0  0  0  0  0\n",
       "..  .. .. .. .. .. .. .. .. .. ..  ... .. .. .. .. .. .. .. .. .. ..\n",
       "295  0  0  0  0  0  0  0  0  0  0  ...  0  0  0  0  0  0  1  0  0  0\n",
       "296  0  1  0  0  0  0  0  0  0  0  ...  0  0  0  0  0  0  0  0  0  0\n",
       "297  0  0  0  0  0  0  0  0  0  0  ...  0  0  0  0  0  0  0  0  0  0\n",
       "298  0  0  0  0  0  0  0  0  0  0  ...  0  0  0  0  0  0  0  0  0  0\n",
       "299  0  0  0  0  0  0  0  0  0  0  ...  0  0  0  0  0  0  0  0  0  0\n",
       "\n",
       "[300 rows x 36 columns]"
      ]
     },
     "execution_count": 16,
     "metadata": {},
     "output_type": "execute_result"
    }
   ],
   "source": [
    "df = half1 * half2\n",
    "df"
   ]
  },
  {
   "cell_type": "code",
   "execution_count": 17,
   "id": "d9815491",
   "metadata": {},
   "outputs": [
    {
     "data": {
      "text/plain": [
       "7908"
      ]
     },
     "execution_count": 17,
     "metadata": {},
     "output_type": "execute_result"
    }
   ],
   "source": [
    "from string import ascii_letters\n",
    "letter_map = dict(zip(ascii_letters, range(1, 53)))\n",
    "df.idxmax(axis=1).replace(letter_map).sum()"
   ]
  },
  {
   "cell_type": "markdown",
   "id": "c37d633d",
   "metadata": {},
   "source": [
    "## Day 3b"
   ]
  },
  {
   "cell_type": "code",
   "execution_count": 18,
   "id": "fed0c626",
   "metadata": {},
   "outputs": [
    {
     "data": {
      "text/plain": [
       "array([0, 0, 0, 1, 1, 1, 2, 2, 2, 3, 3, 3])"
      ]
     },
     "execution_count": 18,
     "metadata": {},
     "output_type": "execute_result"
    }
   ],
   "source": [
    "groups = np.repeat(np.arange(100), 3)\n",
    "groups[:12]"
   ]
  },
  {
   "cell_type": "code",
   "execution_count": 19,
   "id": "d77fa57a",
   "metadata": {},
   "outputs": [
    {
     "data": {
      "text/plain": [
       "2838"
      ]
     },
     "execution_count": 19,
     "metadata": {},
     "output_type": "execute_result"
    }
   ],
   "source": [
    "s.groupby(groups).apply(lambda x: x.str.get_dummies('').prod().idxmax()).replace(letter_map).sum()"
   ]
  },
  {
   "cell_type": "markdown",
   "id": "9c5f46f6",
   "metadata": {},
   "source": [
    "# Advent of Code Day 3 Solution in Pandas"
   ]
  },
  {
   "cell_type": "code",
   "execution_count": 20,
   "id": "7b143279",
   "metadata": {},
   "outputs": [
    {
     "data": {
      "text/plain": [
       "0      FzQrhQpJtJMFzlpplrTWjTnTTrjVsVvvTnTs\n",
       "1    mScqSqqgcfPCqGPZcfGNSvTNsVVNSjNvWSNsNz\n",
       "2                    fPcPGqgCcHgFzQpJJtHtJH\n",
       "Name: 0, dtype: object"
      ]
     },
     "execution_count": 20,
     "metadata": {},
     "output_type": "execute_result"
    }
   ],
   "source": [
    "s.head(3)"
   ]
  },
  {
   "cell_type": "code",
   "execution_count": 21,
   "id": "21dcdfd4",
   "metadata": {},
   "outputs": [
    {
     "data": {
      "text/plain": [
       "2838"
      ]
     },
     "execution_count": 21,
     "metadata": {},
     "output_type": "execute_result"
    }
   ],
   "source": [
    "from string import ascii_letters\n",
    "letter_map = dict(zip(ascii_letters, range(1, 53)))\n",
    "groups = np.repeat(np.arange(100), 3)\n",
    "(s.groupby(groups)\n",
    "  .apply(lambda x: x.str.get_dummies('').prod().idxmax())\n",
    "  .replace(letter_map)\n",
    "  .sum())"
   ]
  },
  {
   "cell_type": "markdown",
   "id": "f8fcd237",
   "metadata": {},
   "source": [
    "## Step-by-step"
   ]
  },
  {
   "cell_type": "code",
   "execution_count": 22,
   "id": "0d3a2dd2",
   "metadata": {
    "scrolled": false
   },
   "outputs": [
    {
     "data": {
      "text/html": [
       "<div>\n",
       "<style scoped>\n",
       "    .dataframe tbody tr th:only-of-type {\n",
       "        vertical-align: middle;\n",
       "    }\n",
       "\n",
       "    .dataframe tbody tr th {\n",
       "        vertical-align: top;\n",
       "    }\n",
       "\n",
       "    .dataframe thead th {\n",
       "        text-align: right;\n",
       "    }\n",
       "</style>\n",
       "<table border=\"1\" class=\"dataframe\">\n",
       "  <thead>\n",
       "    <tr style=\"text-align: right;\">\n",
       "      <th></th>\n",
       "      <th>C</th>\n",
       "      <th>F</th>\n",
       "      <th>G</th>\n",
       "      <th>H</th>\n",
       "      <th>J</th>\n",
       "      <th>M</th>\n",
       "      <th>N</th>\n",
       "      <th>P</th>\n",
       "      <th>Q</th>\n",
       "      <th>S</th>\n",
       "      <th>...</th>\n",
       "      <th>t</th>\n",
       "      <th>v</th>\n",
       "      <th>z</th>\n",
       "      <th>B</th>\n",
       "      <th>D</th>\n",
       "      <th>L</th>\n",
       "      <th>R</th>\n",
       "      <th>b</th>\n",
       "      <th>d</th>\n",
       "      <th>w</th>\n",
       "    </tr>\n",
       "  </thead>\n",
       "  <tbody>\n",
       "    <tr>\n",
       "      <th>0</th>\n",
       "      <td>0.0</td>\n",
       "      <td>1.0</td>\n",
       "      <td>0.0</td>\n",
       "      <td>0.0</td>\n",
       "      <td>1.0</td>\n",
       "      <td>1.0</td>\n",
       "      <td>0.0</td>\n",
       "      <td>0.0</td>\n",
       "      <td>1.0</td>\n",
       "      <td>0.0</td>\n",
       "      <td>...</td>\n",
       "      <td>1.0</td>\n",
       "      <td>1.0</td>\n",
       "      <td>1.0</td>\n",
       "      <td>NaN</td>\n",
       "      <td>NaN</td>\n",
       "      <td>NaN</td>\n",
       "      <td>NaN</td>\n",
       "      <td>NaN</td>\n",
       "      <td>NaN</td>\n",
       "      <td>NaN</td>\n",
       "    </tr>\n",
       "    <tr>\n",
       "      <th>1</th>\n",
       "      <td>1.0</td>\n",
       "      <td>0.0</td>\n",
       "      <td>1.0</td>\n",
       "      <td>0.0</td>\n",
       "      <td>0.0</td>\n",
       "      <td>0.0</td>\n",
       "      <td>1.0</td>\n",
       "      <td>1.0</td>\n",
       "      <td>0.0</td>\n",
       "      <td>1.0</td>\n",
       "      <td>...</td>\n",
       "      <td>0.0</td>\n",
       "      <td>1.0</td>\n",
       "      <td>1.0</td>\n",
       "      <td>NaN</td>\n",
       "      <td>NaN</td>\n",
       "      <td>NaN</td>\n",
       "      <td>NaN</td>\n",
       "      <td>NaN</td>\n",
       "      <td>NaN</td>\n",
       "      <td>NaN</td>\n",
       "    </tr>\n",
       "    <tr>\n",
       "      <th>2</th>\n",
       "      <td>1.0</td>\n",
       "      <td>1.0</td>\n",
       "      <td>1.0</td>\n",
       "      <td>1.0</td>\n",
       "      <td>1.0</td>\n",
       "      <td>0.0</td>\n",
       "      <td>0.0</td>\n",
       "      <td>1.0</td>\n",
       "      <td>1.0</td>\n",
       "      <td>0.0</td>\n",
       "      <td>...</td>\n",
       "      <td>1.0</td>\n",
       "      <td>0.0</td>\n",
       "      <td>1.0</td>\n",
       "      <td>NaN</td>\n",
       "      <td>NaN</td>\n",
       "      <td>NaN</td>\n",
       "      <td>NaN</td>\n",
       "      <td>NaN</td>\n",
       "      <td>NaN</td>\n",
       "      <td>NaN</td>\n",
       "    </tr>\n",
       "  </tbody>\n",
       "</table>\n",
       "<p>3 rows × 36 columns</p>\n",
       "</div>"
      ],
      "text/plain": [
       "     C    F    G    H    J    M    N    P    Q    S  ...    t    v    z   B  \\\n",
       "0  0.0  1.0  0.0  0.0  1.0  1.0  0.0  0.0  1.0  0.0  ...  1.0  1.0  1.0 NaN   \n",
       "1  1.0  0.0  1.0  0.0  0.0  0.0  1.0  1.0  0.0  1.0  ...  0.0  1.0  1.0 NaN   \n",
       "2  1.0  1.0  1.0  1.0  1.0  0.0  0.0  1.0  1.0  0.0  ...  1.0  0.0  1.0 NaN   \n",
       "\n",
       "    D   L   R   b   d   w  \n",
       "0 NaN NaN NaN NaN NaN NaN  \n",
       "1 NaN NaN NaN NaN NaN NaN  \n",
       "2 NaN NaN NaN NaN NaN NaN  \n",
       "\n",
       "[3 rows x 36 columns]"
      ]
     },
     "execution_count": 22,
     "metadata": {},
     "output_type": "execute_result"
    }
   ],
   "source": [
    "(s.groupby(groups)\n",
    "  .apply(lambda x: x.str.get_dummies(''))).head(3)"
   ]
  },
  {
   "cell_type": "code",
   "execution_count": 23,
   "id": "a8936d77",
   "metadata": {},
   "outputs": [
    {
     "data": {
      "text/plain": [
       "0  C    0\n",
       "   F    0\n",
       "   G    0\n",
       "Name: 0, dtype: int64"
      ]
     },
     "execution_count": 23,
     "metadata": {},
     "output_type": "execute_result"
    }
   ],
   "source": [
    "(s.groupby(groups)\n",
    "  .apply(lambda x: x.str.get_dummies('').prod())).head(3)"
   ]
  },
  {
   "cell_type": "code",
   "execution_count": 24,
   "id": "4e486c1e",
   "metadata": {},
   "outputs": [
    {
     "data": {
      "text/plain": [
       "0    z\n",
       "1    R\n",
       "2    d\n",
       "Name: 0, dtype: object"
      ]
     },
     "execution_count": 24,
     "metadata": {},
     "output_type": "execute_result"
    }
   ],
   "source": [
    "(s.groupby(groups)\n",
    "  .apply(lambda x: x.str.get_dummies('').prod().idxmax())).head(3)"
   ]
  },
  {
   "cell_type": "code",
   "execution_count": 25,
   "id": "217c5a9c",
   "metadata": {},
   "outputs": [
    {
     "data": {
      "text/plain": [
       "0    26\n",
       "1    44\n",
       "2     4\n",
       "Name: 0, dtype: int64"
      ]
     },
     "execution_count": 25,
     "metadata": {},
     "output_type": "execute_result"
    }
   ],
   "source": [
    "(s.groupby(groups)\n",
    "  .apply(lambda x: x.str.get_dummies('').prod().idxmax())\n",
    "  .replace(letter_map)).head(3)"
   ]
  },
  {
   "cell_type": "code",
   "execution_count": 26,
   "id": "e731ff81",
   "metadata": {},
   "outputs": [
    {
     "data": {
      "text/plain": [
       "2838"
      ]
     },
     "execution_count": 26,
     "metadata": {},
     "output_type": "execute_result"
    }
   ],
   "source": [
    "(s.groupby(groups)\n",
    "  .apply(lambda x: x.str.get_dummies('').prod().idxmax())\n",
    "  .replace(letter_map)\n",
    "  .sum())"
   ]
  },
  {
   "cell_type": "markdown",
   "id": "9c9a1c9b",
   "metadata": {},
   "source": [
    "## Advent of Code with Pandas\n",
    "\n",
    "## Day 4"
   ]
  },
  {
   "cell_type": "code",
   "execution_count": 27,
   "id": "de0519d8",
   "metadata": {},
   "outputs": [
    {
     "name": "stdout",
     "output_type": "stream",
     "text": [
      "51-88,52-87\n",
      "41-55,22-56\n",
      "6-74,74-86\n",
      "51-98,52-86\n",
      "8-77,3-94\n"
     ]
    }
   ],
   "source": [
    "display_data(day=4, n=5)"
   ]
  },
  {
   "cell_type": "code",
   "execution_count": 28,
   "id": "a76865ab",
   "metadata": {},
   "outputs": [
    {
     "data": {
      "text/html": [
       "<div>\n",
       "<style scoped>\n",
       "    .dataframe tbody tr th:only-of-type {\n",
       "        vertical-align: middle;\n",
       "    }\n",
       "\n",
       "    .dataframe tbody tr th {\n",
       "        vertical-align: top;\n",
       "    }\n",
       "\n",
       "    .dataframe thead th {\n",
       "        text-align: right;\n",
       "    }\n",
       "</style>\n",
       "<table border=\"1\" class=\"dataframe\">\n",
       "  <thead>\n",
       "    <tr style=\"text-align: right;\">\n",
       "      <th></th>\n",
       "      <th>left_min</th>\n",
       "      <th>left_max</th>\n",
       "      <th>right_min</th>\n",
       "      <th>right_max</th>\n",
       "    </tr>\n",
       "  </thead>\n",
       "  <tbody>\n",
       "    <tr>\n",
       "      <th>0</th>\n",
       "      <td>51</td>\n",
       "      <td>88</td>\n",
       "      <td>52</td>\n",
       "      <td>87</td>\n",
       "    </tr>\n",
       "    <tr>\n",
       "      <th>1</th>\n",
       "      <td>41</td>\n",
       "      <td>55</td>\n",
       "      <td>22</td>\n",
       "      <td>56</td>\n",
       "    </tr>\n",
       "    <tr>\n",
       "      <th>2</th>\n",
       "      <td>6</td>\n",
       "      <td>74</td>\n",
       "      <td>74</td>\n",
       "      <td>86</td>\n",
       "    </tr>\n",
       "    <tr>\n",
       "      <th>3</th>\n",
       "      <td>51</td>\n",
       "      <td>98</td>\n",
       "      <td>52</td>\n",
       "      <td>86</td>\n",
       "    </tr>\n",
       "    <tr>\n",
       "      <th>4</th>\n",
       "      <td>8</td>\n",
       "      <td>77</td>\n",
       "      <td>3</td>\n",
       "      <td>94</td>\n",
       "    </tr>\n",
       "  </tbody>\n",
       "</table>\n",
       "</div>"
      ],
      "text/plain": [
       "   left_min  left_max  right_min  right_max\n",
       "0        51        88         52         87\n",
       "1        41        55         22         56\n",
       "2         6        74         74         86\n",
       "3        51        98         52         86\n",
       "4         8        77          3         94"
      ]
     },
     "execution_count": 28,
     "metadata": {},
     "output_type": "execute_result"
    }
   ],
   "source": [
    "df = pd.read_csv('data/day4.txt', \n",
    "                 sep=',|-', \n",
    "                 engine='python', \n",
    "                 header=None, \n",
    "                 names=['left_min', 'left_max', 'right_min', 'right_max'])\n",
    "df.head()"
   ]
  },
  {
   "cell_type": "code",
   "execution_count": 29,
   "id": "14be8477",
   "metadata": {},
   "outputs": [
    {
     "data": {
      "text/html": [
       "<div>\n",
       "<style scoped>\n",
       "    .dataframe tbody tr th:only-of-type {\n",
       "        vertical-align: middle;\n",
       "    }\n",
       "\n",
       "    .dataframe tbody tr th {\n",
       "        vertical-align: top;\n",
       "    }\n",
       "\n",
       "    .dataframe thead th {\n",
       "        text-align: right;\n",
       "    }\n",
       "</style>\n",
       "<table border=\"1\" class=\"dataframe\">\n",
       "  <thead>\n",
       "    <tr style=\"text-align: right;\">\n",
       "      <th></th>\n",
       "      <th>left_min</th>\n",
       "      <th>left_max</th>\n",
       "      <th>right_min</th>\n",
       "      <th>right_max</th>\n",
       "    </tr>\n",
       "  </thead>\n",
       "  <tbody>\n",
       "    <tr>\n",
       "      <th>0</th>\n",
       "      <td>51</td>\n",
       "      <td>88</td>\n",
       "      <td>52</td>\n",
       "      <td>87</td>\n",
       "    </tr>\n",
       "    <tr>\n",
       "      <th>1</th>\n",
       "      <td>41</td>\n",
       "      <td>55</td>\n",
       "      <td>22</td>\n",
       "      <td>56</td>\n",
       "    </tr>\n",
       "    <tr>\n",
       "      <th>3</th>\n",
       "      <td>51</td>\n",
       "      <td>98</td>\n",
       "      <td>52</td>\n",
       "      <td>86</td>\n",
       "    </tr>\n",
       "    <tr>\n",
       "      <th>4</th>\n",
       "      <td>8</td>\n",
       "      <td>77</td>\n",
       "      <td>3</td>\n",
       "      <td>94</td>\n",
       "    </tr>\n",
       "    <tr>\n",
       "      <th>6</th>\n",
       "      <td>29</td>\n",
       "      <td>42</td>\n",
       "      <td>29</td>\n",
       "      <td>35</td>\n",
       "    </tr>\n",
       "  </tbody>\n",
       "</table>\n",
       "</div>"
      ],
      "text/plain": [
       "   left_min  left_max  right_min  right_max\n",
       "0        51        88         52         87\n",
       "1        41        55         22         56\n",
       "3        51        98         52         86\n",
       "4         8        77          3         94\n",
       "6        29        42         29         35"
      ]
     },
     "execution_count": 29,
     "metadata": {},
     "output_type": "execute_result"
    }
   ],
   "source": [
    "df.query('(left_min >= right_min and left_max <= right_max) or '\n",
    "         '(right_min >= left_min and right_max <= left_max)').head()"
   ]
  },
  {
   "cell_type": "code",
   "execution_count": 30,
   "id": "10c13832",
   "metadata": {
    "scrolled": true
   },
   "outputs": [
    {
     "data": {
      "text/html": [
       "<div>\n",
       "<style scoped>\n",
       "    .dataframe tbody tr th:only-of-type {\n",
       "        vertical-align: middle;\n",
       "    }\n",
       "\n",
       "    .dataframe tbody tr th {\n",
       "        vertical-align: top;\n",
       "    }\n",
       "\n",
       "    .dataframe thead th {\n",
       "        text-align: right;\n",
       "    }\n",
       "</style>\n",
       "<table border=\"1\" class=\"dataframe\">\n",
       "  <thead>\n",
       "    <tr style=\"text-align: right;\">\n",
       "      <th></th>\n",
       "      <th>left_min</th>\n",
       "      <th>left_max</th>\n",
       "      <th>right_min</th>\n",
       "      <th>right_max</th>\n",
       "    </tr>\n",
       "  </thead>\n",
       "  <tbody>\n",
       "    <tr>\n",
       "      <th>0</th>\n",
       "      <td>51</td>\n",
       "      <td>88</td>\n",
       "      <td>52</td>\n",
       "      <td>87</td>\n",
       "    </tr>\n",
       "    <tr>\n",
       "      <th>1</th>\n",
       "      <td>41</td>\n",
       "      <td>55</td>\n",
       "      <td>22</td>\n",
       "      <td>56</td>\n",
       "    </tr>\n",
       "    <tr>\n",
       "      <th>2</th>\n",
       "      <td>6</td>\n",
       "      <td>74</td>\n",
       "      <td>74</td>\n",
       "      <td>86</td>\n",
       "    </tr>\n",
       "    <tr>\n",
       "      <th>3</th>\n",
       "      <td>51</td>\n",
       "      <td>98</td>\n",
       "      <td>52</td>\n",
       "      <td>86</td>\n",
       "    </tr>\n",
       "    <tr>\n",
       "      <th>4</th>\n",
       "      <td>8</td>\n",
       "      <td>77</td>\n",
       "      <td>3</td>\n",
       "      <td>94</td>\n",
       "    </tr>\n",
       "  </tbody>\n",
       "</table>\n",
       "</div>"
      ],
      "text/plain": [
       "   left_min  left_max  right_min  right_max\n",
       "0        51        88         52         87\n",
       "1        41        55         22         56\n",
       "2         6        74         74         86\n",
       "3        51        98         52         86\n",
       "4         8        77          3         94"
      ]
     },
     "execution_count": 30,
     "metadata": {},
     "output_type": "execute_result"
    }
   ],
   "source": [
    "df.query('not (left_max < right_min or right_max < left_min)').head()"
   ]
  },
  {
   "cell_type": "code",
   "execution_count": 31,
   "id": "93b7d38f",
   "metadata": {
    "scrolled": true
   },
   "outputs": [
    {
     "data": {
      "text/html": [
       "<div>\n",
       "<style scoped>\n",
       "    .dataframe tbody tr th:only-of-type {\n",
       "        vertical-align: middle;\n",
       "    }\n",
       "\n",
       "    .dataframe tbody tr th {\n",
       "        vertical-align: top;\n",
       "    }\n",
       "\n",
       "    .dataframe thead th {\n",
       "        text-align: right;\n",
       "    }\n",
       "</style>\n",
       "<table border=\"1\" class=\"dataframe\">\n",
       "  <thead>\n",
       "    <tr style=\"text-align: right;\">\n",
       "      <th></th>\n",
       "      <th>left_min</th>\n",
       "      <th>left_max</th>\n",
       "      <th>right_min</th>\n",
       "      <th>right_max</th>\n",
       "    </tr>\n",
       "  </thead>\n",
       "  <tbody>\n",
       "    <tr>\n",
       "      <th>0</th>\n",
       "      <td>51</td>\n",
       "      <td>88</td>\n",
       "      <td>52</td>\n",
       "      <td>87</td>\n",
       "    </tr>\n",
       "    <tr>\n",
       "      <th>1</th>\n",
       "      <td>41</td>\n",
       "      <td>55</td>\n",
       "      <td>22</td>\n",
       "      <td>56</td>\n",
       "    </tr>\n",
       "    <tr>\n",
       "      <th>2</th>\n",
       "      <td>6</td>\n",
       "      <td>74</td>\n",
       "      <td>74</td>\n",
       "      <td>86</td>\n",
       "    </tr>\n",
       "    <tr>\n",
       "      <th>3</th>\n",
       "      <td>51</td>\n",
       "      <td>98</td>\n",
       "      <td>52</td>\n",
       "      <td>86</td>\n",
       "    </tr>\n",
       "    <tr>\n",
       "      <th>4</th>\n",
       "      <td>8</td>\n",
       "      <td>77</td>\n",
       "      <td>3</td>\n",
       "      <td>94</td>\n",
       "    </tr>\n",
       "  </tbody>\n",
       "</table>\n",
       "</div>"
      ],
      "text/plain": [
       "   left_min  left_max  right_min  right_max\n",
       "0        51        88         52         87\n",
       "1        41        55         22         56\n",
       "2         6        74         74         86\n",
       "3        51        98         52         86\n",
       "4         8        77          3         94"
      ]
     },
     "execution_count": 31,
     "metadata": {},
     "output_type": "execute_result"
    }
   ],
   "source": [
    "df.query('right_min <= left_min <= right_max or '\n",
    "         'right_min <= left_max <= right_max or '\n",
    "         'left_min <= right_min <= left_max or '\n",
    "         'left_min <= right_max <= left_max').head()"
   ]
  },
  {
   "cell_type": "code",
   "execution_count": 32,
   "id": "08412299",
   "metadata": {},
   "outputs": [
    {
     "data": {
      "text/html": [
       "<div>\n",
       "<style scoped>\n",
       "    .dataframe tbody tr th:only-of-type {\n",
       "        vertical-align: middle;\n",
       "    }\n",
       "\n",
       "    .dataframe tbody tr th {\n",
       "        vertical-align: top;\n",
       "    }\n",
       "\n",
       "    .dataframe thead th {\n",
       "        text-align: right;\n",
       "    }\n",
       "</style>\n",
       "<table border=\"1\" class=\"dataframe\">\n",
       "  <thead>\n",
       "    <tr style=\"text-align: right;\">\n",
       "      <th></th>\n",
       "      <th>left_min</th>\n",
       "      <th>left_max</th>\n",
       "      <th>right_min</th>\n",
       "      <th>right_max</th>\n",
       "    </tr>\n",
       "  </thead>\n",
       "  <tbody>\n",
       "    <tr>\n",
       "      <th>0</th>\n",
       "      <td>51</td>\n",
       "      <td>88</td>\n",
       "      <td>52</td>\n",
       "      <td>87</td>\n",
       "    </tr>\n",
       "    <tr>\n",
       "      <th>1</th>\n",
       "      <td>41</td>\n",
       "      <td>55</td>\n",
       "      <td>22</td>\n",
       "      <td>56</td>\n",
       "    </tr>\n",
       "    <tr>\n",
       "      <th>2</th>\n",
       "      <td>6</td>\n",
       "      <td>74</td>\n",
       "      <td>74</td>\n",
       "      <td>86</td>\n",
       "    </tr>\n",
       "    <tr>\n",
       "      <th>3</th>\n",
       "      <td>51</td>\n",
       "      <td>98</td>\n",
       "      <td>52</td>\n",
       "      <td>86</td>\n",
       "    </tr>\n",
       "    <tr>\n",
       "      <th>4</th>\n",
       "      <td>8</td>\n",
       "      <td>77</td>\n",
       "      <td>3</td>\n",
       "      <td>94</td>\n",
       "    </tr>\n",
       "    <tr>\n",
       "      <th>...</th>\n",
       "      <td>...</td>\n",
       "      <td>...</td>\n",
       "      <td>...</td>\n",
       "      <td>...</td>\n",
       "    </tr>\n",
       "    <tr>\n",
       "      <th>995</th>\n",
       "      <td>4</td>\n",
       "      <td>79</td>\n",
       "      <td>3</td>\n",
       "      <td>80</td>\n",
       "    </tr>\n",
       "    <tr>\n",
       "      <th>996</th>\n",
       "      <td>14</td>\n",
       "      <td>50</td>\n",
       "      <td>37</td>\n",
       "      <td>37</td>\n",
       "    </tr>\n",
       "    <tr>\n",
       "      <th>997</th>\n",
       "      <td>5</td>\n",
       "      <td>68</td>\n",
       "      <td>46</td>\n",
       "      <td>68</td>\n",
       "    </tr>\n",
       "    <tr>\n",
       "      <th>998</th>\n",
       "      <td>23</td>\n",
       "      <td>63</td>\n",
       "      <td>22</td>\n",
       "      <td>63</td>\n",
       "    </tr>\n",
       "    <tr>\n",
       "      <th>999</th>\n",
       "      <td>3</td>\n",
       "      <td>94</td>\n",
       "      <td>1</td>\n",
       "      <td>3</td>\n",
       "    </tr>\n",
       "  </tbody>\n",
       "</table>\n",
       "<p>849 rows × 4 columns</p>\n",
       "</div>"
      ],
      "text/plain": [
       "     left_min  left_max  right_min  right_max\n",
       "0          51        88         52         87\n",
       "1          41        55         22         56\n",
       "2           6        74         74         86\n",
       "3          51        98         52         86\n",
       "4           8        77          3         94\n",
       "..        ...       ...        ...        ...\n",
       "995         4        79          3         80\n",
       "996        14        50         37         37\n",
       "997         5        68         46         68\n",
       "998        23        63         22         63\n",
       "999         3        94          1          3\n",
       "\n",
       "[849 rows x 4 columns]"
      ]
     },
     "execution_count": 32,
     "metadata": {},
     "output_type": "execute_result"
    }
   ],
   "source": [
    "df.query('not (left_max < right_min or right_max < left_min)')"
   ]
  },
  {
   "cell_type": "code",
   "execution_count": null,
   "id": "5906c93d",
   "metadata": {},
   "outputs": [],
   "source": []
  }
 ],
 "metadata": {
  "kernelspec": {
   "display_name": "Python 3 (ipykernel)",
   "language": "python",
   "name": "python3"
  },
  "language_info": {
   "codemirror_mode": {
    "name": "ipython",
    "version": 3
   },
   "file_extension": ".py",
   "mimetype": "text/x-python",
   "name": "python",
   "nbconvert_exporter": "python",
   "pygments_lexer": "ipython3",
   "version": "3.8.11"
  }
 },
 "nbformat": 4,
 "nbformat_minor": 5
}
