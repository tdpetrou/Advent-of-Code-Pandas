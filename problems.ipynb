{
 "cells": [
  {
   "cell_type": "markdown",
   "id": "7109b6fc",
   "metadata": {},
   "source": [
    "# Advent of Code\n",
    "\n",
    "* 25 fun, interesting, tricky word problems that require programming\n",
    "* Make an account here - https://adventofcode.com/\n",
    "* Released December 1st each year\n",
    "* Problem statement is worked within a story\n",
    "* Visit website for full story\n",
    "* Relevant parts will be posted in the notebook\n",
    "* There is data for each problem\n",
    "* Every person's data is different\n",
    "* Your answer will be different than mine\n",
    "* Two parts to each problem\n",
    "\n",
    "## Using Pandas\n",
    "\n",
    "* Tutorial is for experienced pandas users\n",
    "* Assumes you know the fundamentals\n",
    "* Will show interesting and unusual pandas tricks to solve these problems\n",
    "* Some are easier with pandas, others without"
   ]
  },
  {
   "cell_type": "code",
   "execution_count": null,
   "id": "548a673a",
   "metadata": {},
   "outputs": [],
   "source": [
    "import pandas as pd\n",
    "import numpy as np\n",
    "\n",
    "def display_data(day, n):\n",
    "    '''\n",
    "    Displays the top n lines from day data\n",
    "    \n",
    "    Example\n",
    "    -------\n",
    "    display_data(1, 10) # displays the top 10 lines from the first day's data\n",
    "    '''\n",
    "    with open(f'data/day{day}.txt') as f:\n",
    "        for _ in range(n):\n",
    "            print(f.readline(), end='')"
   ]
  },
  {
   "cell_type": "markdown",
   "id": "8d9d9840",
   "metadata": {},
   "source": [
    "## 1a\n",
    "\n",
    "Given a list of integers, determine how many are greater than the one before it."
   ]
  },
  {
   "cell_type": "code",
   "execution_count": null,
   "id": "a2289ed4",
   "metadata": {},
   "outputs": [],
   "source": [
    "display_data(1, 10)"
   ]
  },
  {
   "cell_type": "code",
   "execution_count": null,
   "id": "ff26e96c",
   "metadata": {},
   "outputs": [],
   "source": []
  },
  {
   "cell_type": "code",
   "execution_count": null,
   "id": "f7512e71",
   "metadata": {},
   "outputs": [],
   "source": []
  },
  {
   "cell_type": "markdown",
   "id": "25df85ce",
   "metadata": {},
   "source": [
    "## 1b\n",
    "\n",
    "Using a rolling window size of 3, calculate the sum, then determine how many are greater than the one before it."
   ]
  },
  {
   "cell_type": "code",
   "execution_count": null,
   "id": "82ff313b",
   "metadata": {},
   "outputs": [],
   "source": []
  },
  {
   "cell_type": "code",
   "execution_count": null,
   "id": "ebab680e",
   "metadata": {},
   "outputs": [],
   "source": []
  },
  {
   "cell_type": "code",
   "execution_count": null,
   "id": "7fa1fe4c",
   "metadata": {},
   "outputs": [],
   "source": []
  },
  {
   "cell_type": "markdown",
   "id": "c1881fe6",
   "metadata": {},
   "source": [
    "## 2a\n",
    "\n",
    "You are piloting a submarine. The data provides commands \n",
    "\n",
    "* forward X increases the horizontal position by X units\n",
    "* down X increases the depth by X units\n",
    "* up X decreases the depth by X units\n",
    "\n",
    "Down increases in the **positive** direction since you are in a submarine. After commands **multiply horizontal and vertical units**."
   ]
  },
  {
   "cell_type": "code",
   "execution_count": null,
   "id": "8a9e90cb",
   "metadata": {},
   "outputs": [],
   "source": [
    "display_data(2, 15)"
   ]
  },
  {
   "cell_type": "code",
   "execution_count": null,
   "id": "d22a59e2",
   "metadata": {},
   "outputs": [],
   "source": []
  },
  {
   "cell_type": "code",
   "execution_count": null,
   "id": "226f6b5f",
   "metadata": {},
   "outputs": [],
   "source": []
  },
  {
   "cell_type": "code",
   "execution_count": null,
   "id": "3eb2b81b",
   "metadata": {},
   "outputs": [],
   "source": []
  },
  {
   "cell_type": "code",
   "execution_count": null,
   "id": "32536ded",
   "metadata": {},
   "outputs": [],
   "source": []
  },
  {
   "cell_type": "markdown",
   "id": "4654e509",
   "metadata": {},
   "source": [
    "## 2b\n",
    "\n",
    "Commands mean something different\n",
    "\n",
    "* down X increases your aim by X units\n",
    "* up X decreases your aim by X units\n",
    "* forward X does two things:\n",
    "    * It increases your horizontal position by X units\n",
    "    * It increases your depth by your aim multiplied by X\n",
    "    \n",
    "After commands **multiply horizontal and vertical units**."
   ]
  },
  {
   "cell_type": "code",
   "execution_count": null,
   "id": "a572fd6b",
   "metadata": {},
   "outputs": [],
   "source": [
    "display_data(2, 10)"
   ]
  },
  {
   "cell_type": "code",
   "execution_count": null,
   "id": "51289fd9",
   "metadata": {},
   "outputs": [],
   "source": []
  },
  {
   "cell_type": "code",
   "execution_count": null,
   "id": "9fd674f2",
   "metadata": {},
   "outputs": [],
   "source": []
  },
  {
   "cell_type": "code",
   "execution_count": null,
   "id": "afbd9b73",
   "metadata": {},
   "outputs": [],
   "source": []
  },
  {
   "cell_type": "code",
   "execution_count": null,
   "id": "56b23396",
   "metadata": {},
   "outputs": [],
   "source": []
  },
  {
   "cell_type": "markdown",
   "id": "acff51be",
   "metadata": {},
   "source": [
    "## 3a\n",
    "\n",
    "Each row is a binary number. Find the most common bit in each position (vertical). Convert each to base 10. Then find the least common bit and convert to base 10. Multiply these two numbers together."
   ]
  },
  {
   "cell_type": "code",
   "execution_count": null,
   "id": "d34484c4",
   "metadata": {},
   "outputs": [],
   "source": [
    "display_data(3, 10)"
   ]
  },
  {
   "cell_type": "code",
   "execution_count": null,
   "id": "057e1530",
   "metadata": {},
   "outputs": [],
   "source": []
  },
  {
   "cell_type": "code",
   "execution_count": null,
   "id": "2ae9f514",
   "metadata": {},
   "outputs": [],
   "source": []
  },
  {
   "cell_type": "code",
   "execution_count": null,
   "id": "5f5bb339",
   "metadata": {},
   "outputs": [],
   "source": []
  },
  {
   "cell_type": "code",
   "execution_count": null,
   "id": "94b3de5e",
   "metadata": {},
   "outputs": [],
   "source": []
  },
  {
   "cell_type": "markdown",
   "id": "bb19d5ef",
   "metadata": {},
   "source": [
    "## 3b\n",
    "\n",
    "Filter the data for most common bit in first position, repeating for all positions. If there is a tie, use 1. This will reduce data to one row. Convert to integer. Repeat for least common, using 0 for tie. Multiply numbers together."
   ]
  },
  {
   "cell_type": "code",
   "execution_count": null,
   "id": "b5830376",
   "metadata": {},
   "outputs": [],
   "source": [
    "display_data(3, 10)"
   ]
  },
  {
   "cell_type": "code",
   "execution_count": null,
   "id": "43f72488",
   "metadata": {},
   "outputs": [],
   "source": []
  },
  {
   "cell_type": "code",
   "execution_count": null,
   "id": "98ada3a5",
   "metadata": {},
   "outputs": [],
   "source": []
  },
  {
   "cell_type": "code",
   "execution_count": null,
   "id": "9995b5c4",
   "metadata": {},
   "outputs": [],
   "source": []
  },
  {
   "cell_type": "code",
   "execution_count": null,
   "id": "4dcbd16d",
   "metadata": {},
   "outputs": [],
   "source": []
  },
  {
   "cell_type": "markdown",
   "id": "f38bed93",
   "metadata": {},
   "source": [
    "## 4a\n",
    "\n",
    "Play bingo. Data has selected numbers followed by boards. Find first board to win (no diagonals), multiply sum of remaining numbers by last number selected."
   ]
  },
  {
   "cell_type": "code",
   "execution_count": null,
   "id": "23efaf4c",
   "metadata": {},
   "outputs": [],
   "source": [
    "display_data(4, 18)"
   ]
  },
  {
   "cell_type": "code",
   "execution_count": null,
   "id": "50159c0a",
   "metadata": {},
   "outputs": [],
   "source": []
  },
  {
   "cell_type": "code",
   "execution_count": null,
   "id": "efaf9c51",
   "metadata": {},
   "outputs": [],
   "source": []
  },
  {
   "cell_type": "code",
   "execution_count": null,
   "id": "fca8262a",
   "metadata": {},
   "outputs": [],
   "source": []
  },
  {
   "cell_type": "code",
   "execution_count": null,
   "id": "861f1194",
   "metadata": {},
   "outputs": [],
   "source": []
  },
  {
   "cell_type": "markdown",
   "id": "f328e264",
   "metadata": {},
   "source": [
    "## 4b\n",
    "\n",
    "Find last board to win (no diagonals), multiply sum of remaining numbers by last number selected."
   ]
  },
  {
   "cell_type": "code",
   "execution_count": null,
   "id": "c093a3bf",
   "metadata": {},
   "outputs": [],
   "source": []
  },
  {
   "cell_type": "code",
   "execution_count": null,
   "id": "7969bf31",
   "metadata": {},
   "outputs": [],
   "source": []
  },
  {
   "cell_type": "code",
   "execution_count": null,
   "id": "83a25ec9",
   "metadata": {},
   "outputs": [],
   "source": []
  },
  {
   "cell_type": "code",
   "execution_count": null,
   "id": "84e449b6",
   "metadata": {},
   "outputs": [],
   "source": []
  },
  {
   "cell_type": "markdown",
   "id": "d6db3959",
   "metadata": {},
   "source": [
    "## 5a\n",
    "\n",
    "* Given line segments in the format x1,y1 -> x2,y2\n",
    "* Consider only horizontal or vertical lines - where x1 = x2 or y1 = y2\n",
    "* Find number of points where at least two points overlap"
   ]
  },
  {
   "cell_type": "code",
   "execution_count": null,
   "id": "99eb7ccf",
   "metadata": {},
   "outputs": [],
   "source": [
    "display_data(5, 10)"
   ]
  },
  {
   "cell_type": "code",
   "execution_count": null,
   "id": "4575af45",
   "metadata": {},
   "outputs": [],
   "source": []
  },
  {
   "cell_type": "code",
   "execution_count": null,
   "id": "8c0fb8f6",
   "metadata": {},
   "outputs": [],
   "source": []
  },
  {
   "cell_type": "code",
   "execution_count": null,
   "id": "2a8fc5db",
   "metadata": {},
   "outputs": [],
   "source": []
  },
  {
   "cell_type": "code",
   "execution_count": null,
   "id": "32a553a5",
   "metadata": {},
   "outputs": [],
   "source": []
  },
  {
   "cell_type": "markdown",
   "id": "944ff274",
   "metadata": {},
   "source": [
    "## 5b\n",
    "\n",
    "Include diagonals at 45 degree angles"
   ]
  },
  {
   "cell_type": "code",
   "execution_count": null,
   "id": "dcf6016a",
   "metadata": {},
   "outputs": [],
   "source": []
  },
  {
   "cell_type": "code",
   "execution_count": null,
   "id": "cdce2cf8",
   "metadata": {},
   "outputs": [],
   "source": []
  },
  {
   "cell_type": "code",
   "execution_count": null,
   "id": "8c67c9d2",
   "metadata": {},
   "outputs": [],
   "source": []
  },
  {
   "cell_type": "code",
   "execution_count": null,
   "id": "f33ad8db",
   "metadata": {},
   "outputs": [],
   "source": []
  }
 ],
 "metadata": {
  "kernelspec": {
   "display_name": "Python 3 (ipykernel)",
   "language": "python",
   "name": "python3"
  },
  "language_info": {
   "codemirror_mode": {
    "name": "ipython",
    "version": 3
   },
   "file_extension": ".py",
   "mimetype": "text/x-python",
   "name": "python",
   "nbconvert_exporter": "python",
   "pygments_lexer": "ipython3",
   "version": "3.8.11"
  }
 },
 "nbformat": 4,
 "nbformat_minor": 5
}
