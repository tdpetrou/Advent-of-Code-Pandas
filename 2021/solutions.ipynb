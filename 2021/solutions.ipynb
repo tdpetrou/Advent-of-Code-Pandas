{
 "cells": [
  {
   "cell_type": "markdown",
   "id": "7109b6fc",
   "metadata": {},
   "source": [
    "# Advent of Code"
   ]
  },
  {
   "cell_type": "code",
   "execution_count": 1,
   "id": "548a673a",
   "metadata": {},
   "outputs": [],
   "source": [
    "import pandas as pd\n",
    "import numpy as np"
   ]
  },
  {
   "cell_type": "markdown",
   "id": "047be470",
   "metadata": {},
   "source": [
    "# Read in a single column of data as a Series in Pandas"
   ]
  },
  {
   "cell_type": "markdown",
   "id": "fffff6b6",
   "metadata": {
    "cell_style": "split"
   },
   "source": [
    "* Data stored as a text file of one item per row"
   ]
  },
  {
   "cell_type": "markdown",
   "id": "649477ac",
   "metadata": {
    "cell_style": "split"
   },
   "source": [
    "* Set `squeeze` to `True`\n",
    "* Set `header` to `None` if first row has no column name"
   ]
  },
  {
   "cell_type": "code",
   "execution_count": 2,
   "id": "9463eb93",
   "metadata": {
    "cell_style": "center"
   },
   "outputs": [
    {
     "name": "stdout",
     "output_type": "stream",
     "text": [
      "191\r\n",
      "192\r\n",
      "201\r\n",
      "205\r\n",
      "206\r\n",
      "203\r\n",
      "188\r\n",
      "189\r\n",
      "199\r\n",
      "206\r\n"
     ]
    }
   ],
   "source": [
    "!head -n 10 data/day1.txt"
   ]
  },
  {
   "cell_type": "markdown",
   "id": "ae4fef91",
   "metadata": {},
   "source": [
    "## 1a"
   ]
  },
  {
   "cell_type": "code",
   "execution_count": 3,
   "id": "f27494c8",
   "metadata": {},
   "outputs": [
    {
     "data": {
      "text/plain": [
       "1374"
      ]
     },
     "execution_count": 3,
     "metadata": {},
     "output_type": "execute_result"
    }
   ],
   "source": [
    "s = pd.read_csv('data/day1.txt', header=None).squeeze()\n",
    "s.diff().gt(0).sum()"
   ]
  },
  {
   "cell_type": "markdown",
   "id": "25df85ce",
   "metadata": {},
   "source": [
    "## 1b"
   ]
  },
  {
   "cell_type": "code",
   "execution_count": 4,
   "id": "4d91b6bd",
   "metadata": {},
   "outputs": [
    {
     "data": {
      "text/plain": [
       "1418"
      ]
     },
     "execution_count": 4,
     "metadata": {},
     "output_type": "execute_result"
    }
   ],
   "source": [
    "s.rolling(3).sum().diff().gt(0).sum()"
   ]
  },
  {
   "cell_type": "markdown",
   "id": "c1881fe6",
   "metadata": {},
   "source": [
    "## 2a"
   ]
  },
  {
   "cell_type": "code",
   "execution_count": 5,
   "id": "8301b5dc",
   "metadata": {},
   "outputs": [
    {
     "data": {
      "text/html": [
       "<div>\n",
       "<style scoped>\n",
       "    .dataframe tbody tr th:only-of-type {\n",
       "        vertical-align: middle;\n",
       "    }\n",
       "\n",
       "    .dataframe tbody tr th {\n",
       "        vertical-align: top;\n",
       "    }\n",
       "\n",
       "    .dataframe thead th {\n",
       "        text-align: right;\n",
       "    }\n",
       "</style>\n",
       "<table border=\"1\" class=\"dataframe\">\n",
       "  <thead>\n",
       "    <tr style=\"text-align: right;\">\n",
       "      <th></th>\n",
       "      <th>direction</th>\n",
       "      <th>amount</th>\n",
       "    </tr>\n",
       "  </thead>\n",
       "  <tbody>\n",
       "    <tr>\n",
       "      <th>0</th>\n",
       "      <td>forward</td>\n",
       "      <td>3</td>\n",
       "    </tr>\n",
       "    <tr>\n",
       "      <th>1</th>\n",
       "      <td>down</td>\n",
       "      <td>7</td>\n",
       "    </tr>\n",
       "    <tr>\n",
       "      <th>2</th>\n",
       "      <td>forward</td>\n",
       "      <td>8</td>\n",
       "    </tr>\n",
       "    <tr>\n",
       "      <th>3</th>\n",
       "      <td>down</td>\n",
       "      <td>9</td>\n",
       "    </tr>\n",
       "    <tr>\n",
       "      <th>4</th>\n",
       "      <td>forward</td>\n",
       "      <td>3</td>\n",
       "    </tr>\n",
       "  </tbody>\n",
       "</table>\n",
       "</div>"
      ],
      "text/plain": [
       "  direction  amount\n",
       "0   forward       3\n",
       "1      down       7\n",
       "2   forward       8\n",
       "3      down       9\n",
       "4   forward       3"
      ]
     },
     "execution_count": 5,
     "metadata": {},
     "output_type": "execute_result"
    }
   ],
   "source": [
    "df = pd.read_csv('data/day2.txt', header=None, sep=' ', names=['direction', 'amount'])\n",
    "df.head()"
   ]
  },
  {
   "cell_type": "code",
   "execution_count": 6,
   "id": "fb7e39bc",
   "metadata": {},
   "outputs": [
    {
     "data": {
      "text/plain": [
       "direction\n",
       "down       2205\n",
       "forward    1832\n",
       "up         1033\n",
       "Name: amount, dtype: int64"
      ]
     },
     "execution_count": 6,
     "metadata": {},
     "output_type": "execute_result"
    }
   ],
   "source": [
    "s = df.groupby('direction')['amount'].sum()\n",
    "s"
   ]
  },
  {
   "cell_type": "code",
   "execution_count": 7,
   "id": "1e0ab0ec",
   "metadata": {},
   "outputs": [
    {
     "data": {
      "text/plain": [
       "2147104"
      ]
     },
     "execution_count": 7,
     "metadata": {},
     "output_type": "execute_result"
    }
   ],
   "source": [
    "s['forward'] * (s['down'] - s['up'])"
   ]
  },
  {
   "cell_type": "markdown",
   "id": "4654e509",
   "metadata": {},
   "source": [
    "## 2b"
   ]
  },
  {
   "cell_type": "code",
   "execution_count": 8,
   "id": "fc1599f9",
   "metadata": {},
   "outputs": [
    {
     "data": {
      "text/plain": [
       "2044620088"
      ]
     },
     "execution_count": 8,
     "metadata": {},
     "output_type": "execute_result"
    }
   ],
   "source": [
    "# numpy\n",
    "is_forward = df['direction'] == 'forward'\n",
    "is_up = df['direction'] == 'up'\n",
    "aim = np.where(is_forward, 0, \n",
    "         np.where(is_up, df['amount'] * -1, df['amount'])).cumsum()\n",
    "\n",
    "depth = np.where(is_forward, aim * df['amount'], 0).sum()\n",
    "horiz = df.loc[is_forward, 'amount'].sum()\n",
    "depth * horiz"
   ]
  },
  {
   "cell_type": "code",
   "execution_count": 9,
   "id": "5b7df494",
   "metadata": {},
   "outputs": [
    {
     "data": {
      "text/html": [
       "<div>\n",
       "<style scoped>\n",
       "    .dataframe tbody tr th:only-of-type {\n",
       "        vertical-align: middle;\n",
       "    }\n",
       "\n",
       "    .dataframe tbody tr th {\n",
       "        vertical-align: top;\n",
       "    }\n",
       "\n",
       "    .dataframe thead th {\n",
       "        text-align: right;\n",
       "    }\n",
       "</style>\n",
       "<table border=\"1\" class=\"dataframe\">\n",
       "  <thead>\n",
       "    <tr style=\"text-align: right;\">\n",
       "      <th></th>\n",
       "      <th>direction</th>\n",
       "      <th>amount</th>\n",
       "      <th>aim</th>\n",
       "      <th>depth</th>\n",
       "    </tr>\n",
       "  </thead>\n",
       "  <tbody>\n",
       "    <tr>\n",
       "      <th>0</th>\n",
       "      <td>forward</td>\n",
       "      <td>3</td>\n",
       "      <td>0</td>\n",
       "      <td>0</td>\n",
       "    </tr>\n",
       "    <tr>\n",
       "      <th>1</th>\n",
       "      <td>down</td>\n",
       "      <td>7</td>\n",
       "      <td>7</td>\n",
       "      <td>0</td>\n",
       "    </tr>\n",
       "    <tr>\n",
       "      <th>2</th>\n",
       "      <td>forward</td>\n",
       "      <td>8</td>\n",
       "      <td>7</td>\n",
       "      <td>56</td>\n",
       "    </tr>\n",
       "    <tr>\n",
       "      <th>3</th>\n",
       "      <td>down</td>\n",
       "      <td>9</td>\n",
       "      <td>16</td>\n",
       "      <td>0</td>\n",
       "    </tr>\n",
       "    <tr>\n",
       "      <th>4</th>\n",
       "      <td>forward</td>\n",
       "      <td>3</td>\n",
       "      <td>16</td>\n",
       "      <td>48</td>\n",
       "    </tr>\n",
       "    <tr>\n",
       "      <th>...</th>\n",
       "      <td>...</td>\n",
       "      <td>...</td>\n",
       "      <td>...</td>\n",
       "      <td>...</td>\n",
       "    </tr>\n",
       "    <tr>\n",
       "      <th>995</th>\n",
       "      <td>down</td>\n",
       "      <td>9</td>\n",
       "      <td>1155</td>\n",
       "      <td>0</td>\n",
       "    </tr>\n",
       "    <tr>\n",
       "      <th>996</th>\n",
       "      <td>down</td>\n",
       "      <td>2</td>\n",
       "      <td>1157</td>\n",
       "      <td>0</td>\n",
       "    </tr>\n",
       "    <tr>\n",
       "      <th>997</th>\n",
       "      <td>down</td>\n",
       "      <td>6</td>\n",
       "      <td>1163</td>\n",
       "      <td>0</td>\n",
       "    </tr>\n",
       "    <tr>\n",
       "      <th>998</th>\n",
       "      <td>down</td>\n",
       "      <td>9</td>\n",
       "      <td>1172</td>\n",
       "      <td>0</td>\n",
       "    </tr>\n",
       "    <tr>\n",
       "      <th>999</th>\n",
       "      <td>forward</td>\n",
       "      <td>8</td>\n",
       "      <td>1172</td>\n",
       "      <td>9376</td>\n",
       "    </tr>\n",
       "  </tbody>\n",
       "</table>\n",
       "<p>1000 rows × 4 columns</p>\n",
       "</div>"
      ],
      "text/plain": [
       "    direction  amount   aim  depth\n",
       "0     forward       3     0      0\n",
       "1        down       7     7      0\n",
       "2     forward       8     7     56\n",
       "3        down       9    16      0\n",
       "4     forward       3    16     48\n",
       "..        ...     ...   ...    ...\n",
       "995      down       9  1155      0\n",
       "996      down       2  1157      0\n",
       "997      down       6  1163      0\n",
       "998      down       9  1172      0\n",
       "999   forward       8  1172   9376\n",
       "\n",
       "[1000 rows x 4 columns]"
      ]
     },
     "execution_count": 9,
     "metadata": {},
     "output_type": "execute_result"
    }
   ],
   "source": [
    "# pandas\n",
    "df['aim'] = (df['amount'] * (df['direction'] == 'down') - \n",
    "             df['amount'] * (df['direction'] == 'up')).cumsum()\n",
    "df['depth'] = df['aim'] * df['amount'] * (df['direction'] == 'forward')\n",
    "df"
   ]
  },
  {
   "cell_type": "code",
   "execution_count": 10,
   "id": "23ac3a8f",
   "metadata": {},
   "outputs": [
    {
     "data": {
      "text/plain": [
       "2044620088"
      ]
     },
     "execution_count": 10,
     "metadata": {},
     "output_type": "execute_result"
    }
   ],
   "source": [
    "(df['amount'] * (df['direction'] == 'forward')).sum() * df['depth'].sum()"
   ]
  },
  {
   "cell_type": "markdown",
   "id": "acff51be",
   "metadata": {},
   "source": [
    "## 3a"
   ]
  },
  {
   "cell_type": "code",
   "execution_count": 11,
   "id": "8ce5b77c",
   "metadata": {},
   "outputs": [
    {
     "data": {
      "text/html": [
       "<div>\n",
       "<style scoped>\n",
       "    .dataframe tbody tr th:only-of-type {\n",
       "        vertical-align: middle;\n",
       "    }\n",
       "\n",
       "    .dataframe tbody tr th {\n",
       "        vertical-align: top;\n",
       "    }\n",
       "\n",
       "    .dataframe thead th {\n",
       "        text-align: right;\n",
       "    }\n",
       "</style>\n",
       "<table border=\"1\" class=\"dataframe\">\n",
       "  <thead>\n",
       "    <tr style=\"text-align: right;\">\n",
       "      <th></th>\n",
       "      <th>1</th>\n",
       "      <th>2</th>\n",
       "      <th>3</th>\n",
       "      <th>4</th>\n",
       "      <th>5</th>\n",
       "      <th>6</th>\n",
       "      <th>7</th>\n",
       "      <th>8</th>\n",
       "      <th>9</th>\n",
       "      <th>10</th>\n",
       "      <th>11</th>\n",
       "      <th>12</th>\n",
       "    </tr>\n",
       "  </thead>\n",
       "  <tbody>\n",
       "    <tr>\n",
       "      <th>0</th>\n",
       "      <td>0</td>\n",
       "      <td>1</td>\n",
       "      <td>1</td>\n",
       "      <td>1</td>\n",
       "      <td>0</td>\n",
       "      <td>1</td>\n",
       "      <td>1</td>\n",
       "      <td>0</td>\n",
       "      <td>1</td>\n",
       "      <td>1</td>\n",
       "      <td>1</td>\n",
       "      <td>0</td>\n",
       "    </tr>\n",
       "    <tr>\n",
       "      <th>1</th>\n",
       "      <td>0</td>\n",
       "      <td>1</td>\n",
       "      <td>0</td>\n",
       "      <td>1</td>\n",
       "      <td>1</td>\n",
       "      <td>0</td>\n",
       "      <td>0</td>\n",
       "      <td>0</td>\n",
       "      <td>1</td>\n",
       "      <td>1</td>\n",
       "      <td>0</td>\n",
       "      <td>1</td>\n",
       "    </tr>\n",
       "    <tr>\n",
       "      <th>2</th>\n",
       "      <td>1</td>\n",
       "      <td>0</td>\n",
       "      <td>0</td>\n",
       "      <td>1</td>\n",
       "      <td>1</td>\n",
       "      <td>1</td>\n",
       "      <td>0</td>\n",
       "      <td>0</td>\n",
       "      <td>0</td>\n",
       "      <td>1</td>\n",
       "      <td>1</td>\n",
       "      <td>0</td>\n",
       "    </tr>\n",
       "    <tr>\n",
       "      <th>3</th>\n",
       "      <td>0</td>\n",
       "      <td>1</td>\n",
       "      <td>1</td>\n",
       "      <td>1</td>\n",
       "      <td>1</td>\n",
       "      <td>0</td>\n",
       "      <td>1</td>\n",
       "      <td>0</td>\n",
       "      <td>1</td>\n",
       "      <td>0</td>\n",
       "      <td>0</td>\n",
       "      <td>0</td>\n",
       "    </tr>\n",
       "    <tr>\n",
       "      <th>4</th>\n",
       "      <td>1</td>\n",
       "      <td>0</td>\n",
       "      <td>1</td>\n",
       "      <td>1</td>\n",
       "      <td>0</td>\n",
       "      <td>1</td>\n",
       "      <td>0</td>\n",
       "      <td>0</td>\n",
       "      <td>0</td>\n",
       "      <td>1</td>\n",
       "      <td>0</td>\n",
       "      <td>0</td>\n",
       "    </tr>\n",
       "  </tbody>\n",
       "</table>\n",
       "</div>"
      ],
      "text/plain": [
       "  1  2  3  4  5  6  7  8  9  10 11 12\n",
       "0  0  1  1  1  0  1  1  0  1  1  1  0\n",
       "1  0  1  0  1  1  0  0  0  1  1  0  1\n",
       "2  1  0  0  1  1  1  0  0  0  1  1  0\n",
       "3  0  1  1  1  1  0  1  0  1  0  0  0\n",
       "4  1  0  1  1  0  1  0  0  0  1  0  0"
      ]
     },
     "execution_count": 11,
     "metadata": {},
     "output_type": "execute_result"
    }
   ],
   "source": [
    "s = pd.read_csv('data/day3.txt', header=None, dtype='str').squeeze()\n",
    "df = s.str.split(\"\", expand=True).iloc[:, 1:-1]\n",
    "df.head()"
   ]
  },
  {
   "cell_type": "code",
   "execution_count": 12,
   "id": "b78bb6f2",
   "metadata": {},
   "outputs": [
    {
     "data": {
      "text/plain": [
       "1     0\n",
       "2     1\n",
       "3     1\n",
       "4     1\n",
       "5     0\n",
       "6     0\n",
       "7     1\n",
       "8     0\n",
       "9     1\n",
       "10    1\n",
       "11    0\n",
       "12    0\n",
       "Name: 0, dtype: object"
      ]
     },
     "execution_count": 12,
     "metadata": {},
     "output_type": "execute_result"
    }
   ],
   "source": [
    "s1 = df.mode().squeeze()\n",
    "s1"
   ]
  },
  {
   "cell_type": "code",
   "execution_count": 13,
   "id": "ee4f7959",
   "metadata": {},
   "outputs": [
    {
     "data": {
      "text/plain": [
       "1836"
      ]
     },
     "execution_count": 13,
     "metadata": {},
     "output_type": "execute_result"
    }
   ],
   "source": [
    "a = int(s1.sum(), base=2)\n",
    "a"
   ]
  },
  {
   "cell_type": "code",
   "execution_count": 14,
   "id": "0d7eeff4",
   "metadata": {},
   "outputs": [
    {
     "data": {
      "text/plain": [
       "4147524"
      ]
     },
     "execution_count": 14,
     "metadata": {},
     "output_type": "execute_result"
    }
   ],
   "source": [
    "b = int((1 - s1.astype('int')).astype('str').sum(), base=2)\n",
    "a * b"
   ]
  },
  {
   "cell_type": "markdown",
   "id": "bb19d5ef",
   "metadata": {},
   "source": [
    "## 3b"
   ]
  },
  {
   "cell_type": "code",
   "execution_count": 15,
   "id": "1d9dc68f",
   "metadata": {},
   "outputs": [
    {
     "data": {
      "text/html": [
       "<div>\n",
       "<style scoped>\n",
       "    .dataframe tbody tr th:only-of-type {\n",
       "        vertical-align: middle;\n",
       "    }\n",
       "\n",
       "    .dataframe tbody tr th {\n",
       "        vertical-align: top;\n",
       "    }\n",
       "\n",
       "    .dataframe thead th {\n",
       "        text-align: right;\n",
       "    }\n",
       "</style>\n",
       "<table border=\"1\" class=\"dataframe\">\n",
       "  <thead>\n",
       "    <tr style=\"text-align: right;\">\n",
       "      <th></th>\n",
       "      <th>1</th>\n",
       "      <th>2</th>\n",
       "      <th>3</th>\n",
       "      <th>4</th>\n",
       "      <th>5</th>\n",
       "      <th>6</th>\n",
       "      <th>7</th>\n",
       "      <th>8</th>\n",
       "      <th>9</th>\n",
       "      <th>10</th>\n",
       "      <th>11</th>\n",
       "      <th>12</th>\n",
       "    </tr>\n",
       "  </thead>\n",
       "  <tbody>\n",
       "    <tr>\n",
       "      <th>0</th>\n",
       "      <td>0</td>\n",
       "      <td>1</td>\n",
       "      <td>1</td>\n",
       "      <td>1</td>\n",
       "      <td>0</td>\n",
       "      <td>1</td>\n",
       "      <td>1</td>\n",
       "      <td>0</td>\n",
       "      <td>1</td>\n",
       "      <td>1</td>\n",
       "      <td>1</td>\n",
       "      <td>0</td>\n",
       "    </tr>\n",
       "    <tr>\n",
       "      <th>1</th>\n",
       "      <td>0</td>\n",
       "      <td>1</td>\n",
       "      <td>0</td>\n",
       "      <td>1</td>\n",
       "      <td>1</td>\n",
       "      <td>0</td>\n",
       "      <td>0</td>\n",
       "      <td>0</td>\n",
       "      <td>1</td>\n",
       "      <td>1</td>\n",
       "      <td>0</td>\n",
       "      <td>1</td>\n",
       "    </tr>\n",
       "    <tr>\n",
       "      <th>2</th>\n",
       "      <td>1</td>\n",
       "      <td>0</td>\n",
       "      <td>0</td>\n",
       "      <td>1</td>\n",
       "      <td>1</td>\n",
       "      <td>1</td>\n",
       "      <td>0</td>\n",
       "      <td>0</td>\n",
       "      <td>0</td>\n",
       "      <td>1</td>\n",
       "      <td>1</td>\n",
       "      <td>0</td>\n",
       "    </tr>\n",
       "    <tr>\n",
       "      <th>3</th>\n",
       "      <td>0</td>\n",
       "      <td>1</td>\n",
       "      <td>1</td>\n",
       "      <td>1</td>\n",
       "      <td>1</td>\n",
       "      <td>0</td>\n",
       "      <td>1</td>\n",
       "      <td>0</td>\n",
       "      <td>1</td>\n",
       "      <td>0</td>\n",
       "      <td>0</td>\n",
       "      <td>0</td>\n",
       "    </tr>\n",
       "    <tr>\n",
       "      <th>4</th>\n",
       "      <td>1</td>\n",
       "      <td>0</td>\n",
       "      <td>1</td>\n",
       "      <td>1</td>\n",
       "      <td>0</td>\n",
       "      <td>1</td>\n",
       "      <td>0</td>\n",
       "      <td>0</td>\n",
       "      <td>0</td>\n",
       "      <td>1</td>\n",
       "      <td>0</td>\n",
       "      <td>0</td>\n",
       "    </tr>\n",
       "  </tbody>\n",
       "</table>\n",
       "</div>"
      ],
      "text/plain": [
       "   1   2   3   4   5   6   7   8   9   10  11  12\n",
       "0   0   1   1   1   0   1   1   0   1   1   1   0\n",
       "1   0   1   0   1   1   0   0   0   1   1   0   1\n",
       "2   1   0   0   1   1   1   0   0   0   1   1   0\n",
       "3   0   1   1   1   1   0   1   0   1   0   0   0\n",
       "4   1   0   1   1   0   1   0   0   0   1   0   0"
      ]
     },
     "execution_count": 15,
     "metadata": {},
     "output_type": "execute_result"
    }
   ],
   "source": [
    "df = s.str.split('', expand=True).iloc[:, 1:-1].astype('int')\n",
    "df.head()"
   ]
  },
  {
   "cell_type": "code",
   "execution_count": 16,
   "id": "7bd102e1",
   "metadata": {},
   "outputs": [
    {
     "data": {
      "text/plain": [
       "3570354"
      ]
     },
     "execution_count": 16,
     "metadata": {},
     "output_type": "execute_result"
    }
   ],
   "source": [
    "# one solution\n",
    "final = 1\n",
    "for small in (False, True):\n",
    "    df1 = df\n",
    "    for col in df1.columns:\n",
    "        if len(df1) == 1:\n",
    "            continue\n",
    "        mode = df1[col].mode()\n",
    "        if len(mode) == 1:\n",
    "            mode = mode.iloc[0]\n",
    "        else:\n",
    "            mode = 1\n",
    "        if small:\n",
    "            mode = 1 - mode\n",
    "        df1 = df1[df1[col] == mode]\n",
    "    final *= int(df1.squeeze().astype('str').sum(), base=2)\n",
    "final"
   ]
  },
  {
   "cell_type": "code",
   "execution_count": 17,
   "id": "31328899",
   "metadata": {},
   "outputs": [
    {
     "data": {
      "text/plain": [
       "3570354"
      ]
     },
     "execution_count": 17,
     "metadata": {},
     "output_type": "execute_result"
    }
   ],
   "source": [
    "# another solution\n",
    "final = 1\n",
    "for asc in (True, False):\n",
    "    df1 = df\n",
    "    for i in range(1, 13):\n",
    "        vc = df1[i].value_counts().reset_index().sort_values([i, 'index'], ascending=asc)\n",
    "        val = vc.iloc[0, 0]\n",
    "        df1 = df1[df1[i] == val]\n",
    "    final *= int(df1.squeeze().astype('str').sum(), base=2)\n",
    "final"
   ]
  },
  {
   "cell_type": "markdown",
   "id": "f38bed93",
   "metadata": {},
   "source": [
    "## 4a"
   ]
  },
  {
   "cell_type": "code",
   "execution_count": 18,
   "id": "306d5ed3",
   "metadata": {},
   "outputs": [
    {
     "data": {
      "text/plain": [
       "0    23\n",
       "1    30\n",
       "2    70\n",
       "3    61\n",
       "4    79\n",
       "Name: 0, dtype: int64"
      ]
     },
     "execution_count": 18,
     "metadata": {},
     "output_type": "execute_result"
    }
   ],
   "source": [
    "s = pd.read_csv('data/day4.txt', nrows=1,  header=None).squeeze()\n",
    "s.head()"
   ]
  },
  {
   "cell_type": "code",
   "execution_count": 19,
   "id": "320d6561",
   "metadata": {},
   "outputs": [
    {
     "data": {
      "text/html": [
       "<div>\n",
       "<style scoped>\n",
       "    .dataframe tbody tr th:only-of-type {\n",
       "        vertical-align: middle;\n",
       "    }\n",
       "\n",
       "    .dataframe tbody tr th {\n",
       "        vertical-align: top;\n",
       "    }\n",
       "\n",
       "    .dataframe thead th {\n",
       "        text-align: right;\n",
       "    }\n",
       "</style>\n",
       "<table border=\"1\" class=\"dataframe\">\n",
       "  <thead>\n",
       "    <tr style=\"text-align: right;\">\n",
       "      <th></th>\n",
       "      <th>0</th>\n",
       "      <th>1</th>\n",
       "      <th>2</th>\n",
       "      <th>3</th>\n",
       "      <th>4</th>\n",
       "    </tr>\n",
       "  </thead>\n",
       "  <tbody>\n",
       "    <tr>\n",
       "      <th>0</th>\n",
       "      <td>50</td>\n",
       "      <td>98</td>\n",
       "      <td>65</td>\n",
       "      <td>14</td>\n",
       "      <td>47</td>\n",
       "    </tr>\n",
       "    <tr>\n",
       "      <th>0</th>\n",
       "      <td>0</td>\n",
       "      <td>22</td>\n",
       "      <td>3</td>\n",
       "      <td>83</td>\n",
       "      <td>46</td>\n",
       "    </tr>\n",
       "    <tr>\n",
       "      <th>0</th>\n",
       "      <td>87</td>\n",
       "      <td>93</td>\n",
       "      <td>81</td>\n",
       "      <td>84</td>\n",
       "      <td>58</td>\n",
       "    </tr>\n",
       "    <tr>\n",
       "      <th>0</th>\n",
       "      <td>40</td>\n",
       "      <td>35</td>\n",
       "      <td>28</td>\n",
       "      <td>74</td>\n",
       "      <td>48</td>\n",
       "    </tr>\n",
       "    <tr>\n",
       "      <th>0</th>\n",
       "      <td>45</td>\n",
       "      <td>99</td>\n",
       "      <td>59</td>\n",
       "      <td>37</td>\n",
       "      <td>64</td>\n",
       "    </tr>\n",
       "    <tr>\n",
       "      <th>...</th>\n",
       "      <td>...</td>\n",
       "      <td>...</td>\n",
       "      <td>...</td>\n",
       "      <td>...</td>\n",
       "      <td>...</td>\n",
       "    </tr>\n",
       "    <tr>\n",
       "      <th>99</th>\n",
       "      <td>88</td>\n",
       "      <td>62</td>\n",
       "      <td>76</td>\n",
       "      <td>78</td>\n",
       "      <td>95</td>\n",
       "    </tr>\n",
       "    <tr>\n",
       "      <th>99</th>\n",
       "      <td>64</td>\n",
       "      <td>65</td>\n",
       "      <td>36</td>\n",
       "      <td>58</td>\n",
       "      <td>22</td>\n",
       "    </tr>\n",
       "    <tr>\n",
       "      <th>99</th>\n",
       "      <td>7</td>\n",
       "      <td>21</td>\n",
       "      <td>98</td>\n",
       "      <td>93</td>\n",
       "      <td>42</td>\n",
       "    </tr>\n",
       "    <tr>\n",
       "      <th>99</th>\n",
       "      <td>79</td>\n",
       "      <td>99</td>\n",
       "      <td>9</td>\n",
       "      <td>89</td>\n",
       "      <td>10</td>\n",
       "    </tr>\n",
       "    <tr>\n",
       "      <th>99</th>\n",
       "      <td>6</td>\n",
       "      <td>5</td>\n",
       "      <td>33</td>\n",
       "      <td>92</td>\n",
       "      <td>72</td>\n",
       "    </tr>\n",
       "  </tbody>\n",
       "</table>\n",
       "<p>500 rows × 5 columns</p>\n",
       "</div>"
      ],
      "text/plain": [
       "     0   1   2   3   4\n",
       "0   50  98  65  14  47\n",
       "0    0  22   3  83  46\n",
       "0   87  93  81  84  58\n",
       "0   40  35  28  74  48\n",
       "0   45  99  59  37  64\n",
       "..  ..  ..  ..  ..  ..\n",
       "99  88  62  76  78  95\n",
       "99  64  65  36  58  22\n",
       "99   7  21  98  93  42\n",
       "99  79  99   9  89  10\n",
       "99   6   5  33  92  72\n",
       "\n",
       "[500 rows x 5 columns]"
      ]
     },
     "execution_count": 19,
     "metadata": {},
     "output_type": "execute_result"
    }
   ],
   "source": [
    "df = pd.read_csv('data/day4.txt', skiprows=[0, 1], header=None, skip_blank_lines=True, sep='\\s+')\n",
    "df = df.set_index(df.index // 5)\n",
    "df"
   ]
  },
  {
   "cell_type": "code",
   "execution_count": 20,
   "id": "a348c03e",
   "metadata": {},
   "outputs": [
    {
     "data": {
      "text/plain": [
       "31424.0"
      ]
     },
     "execution_count": 20,
     "metadata": {},
     "output_type": "execute_result"
    }
   ],
   "source": [
    "df1 = df\n",
    "for num in s:\n",
    "    df1 = df1.mask(df1 == num)\n",
    "    is_bingo = df1.isna()\n",
    "    horiz = is_bingo.all(axis=1)[lambda x: x]\n",
    "    vert = is_bingo.groupby(level=0).all().any(axis=1)[lambda x: x]\n",
    "    if len(horiz):\n",
    "        winner = horiz.index[0]\n",
    "        break\n",
    "    if len(vert):\n",
    "        winner = vert.index[0]\n",
    "        break\n",
    "df1.loc[winner].stack().sum() * num    "
   ]
  },
  {
   "cell_type": "markdown",
   "id": "4399724d",
   "metadata": {},
   "source": [
    "## 4b"
   ]
  },
  {
   "cell_type": "code",
   "execution_count": 21,
   "id": "767a1015",
   "metadata": {},
   "outputs": [
    {
     "name": "stdout",
     "output_type": "stream",
     "text": [
      "CPU times: user 56.6 ms, sys: 1.98 ms, total: 58.6 ms\n",
      "Wall time: 57.6 ms\n"
     ]
    },
    {
     "data": {
      "text/plain": [
       "23042.0"
      ]
     },
     "execution_count": 21,
     "metadata": {},
     "output_type": "execute_result"
    }
   ],
   "source": [
    "%%time\n",
    "df1 = df\n",
    "for num in s:\n",
    "    df1 = df1.mask(df1 == num)\n",
    "    is_bingo = df1.isna()\n",
    "    horiz = is_bingo.all(axis=1)[lambda x: x]\n",
    "    vert = is_bingo.groupby(level=0).all().any(axis=1)[lambda x: x]\n",
    "    winners = horiz.index.union(vert.index)\n",
    "    if len(df1) == 5:\n",
    "        total = df1.stack().sum() * num  \n",
    "    df1 = df1[~df1.index.isin(winners)]\n",
    "    if len(df1) == 0:\n",
    "        break\n",
    "total"
   ]
  },
  {
   "cell_type": "markdown",
   "id": "d6db3959",
   "metadata": {},
   "source": [
    "## 5a"
   ]
  },
  {
   "cell_type": "code",
   "execution_count": 22,
   "id": "f4a5c072",
   "metadata": {
    "cell_style": "center"
   },
   "outputs": [
    {
     "data": {
      "text/html": [
       "<div>\n",
       "<style scoped>\n",
       "    .dataframe tbody tr th:only-of-type {\n",
       "        vertical-align: middle;\n",
       "    }\n",
       "\n",
       "    .dataframe tbody tr th {\n",
       "        vertical-align: top;\n",
       "    }\n",
       "\n",
       "    .dataframe thead th {\n",
       "        text-align: right;\n",
       "    }\n",
       "</style>\n",
       "<table border=\"1\" class=\"dataframe\">\n",
       "  <thead>\n",
       "    <tr style=\"text-align: right;\">\n",
       "      <th></th>\n",
       "      <th>x1</th>\n",
       "      <th>y1</th>\n",
       "      <th>x2</th>\n",
       "      <th>y2</th>\n",
       "    </tr>\n",
       "  </thead>\n",
       "  <tbody>\n",
       "    <tr>\n",
       "      <th>0</th>\n",
       "      <td>599</td>\n",
       "      <td>531</td>\n",
       "      <td>599</td>\n",
       "      <td>32</td>\n",
       "    </tr>\n",
       "    <tr>\n",
       "      <th>1</th>\n",
       "      <td>435</td>\n",
       "      <td>904</td>\n",
       "      <td>435</td>\n",
       "      <td>489</td>\n",
       "    </tr>\n",
       "    <tr>\n",
       "      <th>2</th>\n",
       "      <td>768</td>\n",
       "      <td>714</td>\n",
       "      <td>768</td>\n",
       "      <td>187</td>\n",
       "    </tr>\n",
       "    <tr>\n",
       "      <th>3</th>\n",
       "      <td>845</td>\n",
       "      <td>552</td>\n",
       "      <td>596</td>\n",
       "      <td>801</td>\n",
       "    </tr>\n",
       "    <tr>\n",
       "      <th>4</th>\n",
       "      <td>167</td>\n",
       "      <td>680</td>\n",
       "      <td>167</td>\n",
       "      <td>445</td>\n",
       "    </tr>\n",
       "  </tbody>\n",
       "</table>\n",
       "</div>"
      ],
      "text/plain": [
       "    x1   y1   x2   y2\n",
       "0  599  531  599   32\n",
       "1  435  904  435  489\n",
       "2  768  714  768  187\n",
       "3  845  552  596  801\n",
       "4  167  680  167  445"
      ]
     },
     "execution_count": 22,
     "metadata": {},
     "output_type": "execute_result"
    }
   ],
   "source": [
    "df = pd.read_csv('data/day5.txt', sep='\\D+', \n",
    "            header=None, engine='python',\n",
    "           names=['x1', 'y1', 'x2', 'y2'])\n",
    "df.head()"
   ]
  },
  {
   "cell_type": "code",
   "execution_count": 23,
   "id": "1987d6b9",
   "metadata": {
    "cell_style": "center"
   },
   "outputs": [
    {
     "data": {
      "text/plain": [
       "7644"
      ]
     },
     "execution_count": 23,
     "metadata": {},
     "output_type": "execute_result"
    }
   ],
   "source": [
    "dfs = []\n",
    "for a, b in ('xy', 'yx'):\n",
    "    df_temp = (df.query(f'{a}1 == {a}2')\n",
    "                 .set_index(f'{a}1')[[f'{b}1', f'{b}2']]\n",
    "                 .apply(lambda x: range(min(x), max(x) + 1), axis=1)\n",
    "                 .explode()\n",
    "                 .reset_index(name=f'{b}1'))\n",
    "    dfs.append(df_temp)\n",
    "pd.concat(dfs).value_counts().gt(1).sum()"
   ]
  },
  {
   "cell_type": "markdown",
   "id": "5e31a740",
   "metadata": {},
   "source": [
    "## 5b"
   ]
  },
  {
   "cell_type": "code",
   "execution_count": 24,
   "id": "a1234d05",
   "metadata": {},
   "outputs": [
    {
     "data": {
      "text/html": [
       "<div>\n",
       "<style scoped>\n",
       "    .dataframe tbody tr th:only-of-type {\n",
       "        vertical-align: middle;\n",
       "    }\n",
       "\n",
       "    .dataframe tbody tr th {\n",
       "        vertical-align: top;\n",
       "    }\n",
       "\n",
       "    .dataframe thead th {\n",
       "        text-align: right;\n",
       "    }\n",
       "</style>\n",
       "<table border=\"1\" class=\"dataframe\">\n",
       "  <thead>\n",
       "    <tr style=\"text-align: right;\">\n",
       "      <th></th>\n",
       "      <th>x1</th>\n",
       "      <th>y1</th>\n",
       "      <th>x2</th>\n",
       "      <th>y2</th>\n",
       "    </tr>\n",
       "  </thead>\n",
       "  <tbody>\n",
       "    <tr>\n",
       "      <th>3</th>\n",
       "      <td>845</td>\n",
       "      <td>552</td>\n",
       "      <td>596</td>\n",
       "      <td>801</td>\n",
       "    </tr>\n",
       "    <tr>\n",
       "      <th>6</th>\n",
       "      <td>780</td>\n",
       "      <td>295</td>\n",
       "      <td>179</td>\n",
       "      <td>896</td>\n",
       "    </tr>\n",
       "    <tr>\n",
       "      <th>7</th>\n",
       "      <td>310</td>\n",
       "      <td>539</td>\n",
       "      <td>602</td>\n",
       "      <td>831</td>\n",
       "    </tr>\n",
       "    <tr>\n",
       "      <th>12</th>\n",
       "      <td>689</td>\n",
       "      <td>815</td>\n",
       "      <td>73</td>\n",
       "      <td>199</td>\n",
       "    </tr>\n",
       "    <tr>\n",
       "      <th>16</th>\n",
       "      <td>315</td>\n",
       "      <td>532</td>\n",
       "      <td>773</td>\n",
       "      <td>74</td>\n",
       "    </tr>\n",
       "  </tbody>\n",
       "</table>\n",
       "</div>"
      ],
      "text/plain": [
       "     x1   y1   x2   y2\n",
       "3   845  552  596  801\n",
       "6   780  295  179  896\n",
       "7   310  539  602  831\n",
       "12  689  815   73  199\n",
       "16  315  532  773   74"
      ]
     },
     "execution_count": 24,
     "metadata": {},
     "output_type": "execute_result"
    }
   ],
   "source": [
    "df1 = df.query('abs(x1 - x2) == abs(y1 - y2)')\n",
    "df1.head()"
   ]
  },
  {
   "cell_type": "code",
   "execution_count": 25,
   "id": "c07da4be",
   "metadata": {},
   "outputs": [],
   "source": [
    "dfs = []\n",
    "for a, b in ('xy', 'yx'):\n",
    "    df_temp = (df.query(f'{a}1 == {a}2')\n",
    "                 .set_index(f'{a}1')[[f'{b}1', f'{b}2']]\n",
    "                 .apply(lambda x: range(min(x), max(x) + 1), axis=1)\n",
    "                 .explode()\n",
    "                 .reset_index(name=f'{b}1'))\n",
    "    dfs.append(df_temp)\n",
    "\n",
    "x1 = df1.apply(lambda x: np.linspace(x['x1'], x['x2'], abs(x['x2'] - x['x1']) + 1), axis=1).explode()\n",
    "y1 = df1.apply(lambda x: np.linspace(x['y1'], x['y2'], abs(x['y2'] - x['y1']) + 1), axis=1).explode()\n",
    "df_diag = pd.DataFrame({'x1': x1, 'y1': y1}).astype('int')\n",
    "dfs.append(df_diag)"
   ]
  },
  {
   "cell_type": "code",
   "execution_count": 26,
   "id": "1510276e",
   "metadata": {},
   "outputs": [
    {
     "data": {
      "text/plain": [
       "18627"
      ]
     },
     "execution_count": 26,
     "metadata": {},
     "output_type": "execute_result"
    }
   ],
   "source": [
    "pd.concat(dfs).value_counts().gt(1).sum()"
   ]
  },
  {
   "cell_type": "markdown",
   "id": "2a731a6d",
   "metadata": {},
   "source": [
    "## 6a and 6b"
   ]
  },
  {
   "cell_type": "code",
   "execution_count": 27,
   "id": "8a88fc5c",
   "metadata": {},
   "outputs": [
    {
     "data": {
      "text/plain": [
       "0    1\n",
       "1    1\n",
       "2    3\n",
       "3    5\n",
       "4    1\n",
       "Name: 0, dtype: int64"
      ]
     },
     "execution_count": 27,
     "metadata": {},
     "output_type": "execute_result"
    }
   ],
   "source": [
    "s = pd.read_csv('data/day6.txt', header=None).squeeze()\n",
    "s.head()"
   ]
  },
  {
   "cell_type": "code",
   "execution_count": 28,
   "id": "02664105",
   "metadata": {},
   "outputs": [
    {
     "data": {
      "text/plain": [
       "1    222\n",
       "2     24\n",
       "3     19\n",
       "5     18\n",
       "4     17\n",
       "Name: 0, dtype: int64"
      ]
     },
     "execution_count": 28,
     "metadata": {},
     "output_type": "execute_result"
    }
   ],
   "source": [
    "s_count = s.value_counts()\n",
    "s_count"
   ]
  },
  {
   "cell_type": "markdown",
   "id": "a2e0f604",
   "metadata": {},
   "source": [
    "Use pandas series like a dictionary"
   ]
  },
  {
   "cell_type": "code",
   "execution_count": 29,
   "id": "b7c22873",
   "metadata": {},
   "outputs": [
    {
     "data": {
      "text/plain": [
       "396210"
      ]
     },
     "execution_count": 29,
     "metadata": {},
     "output_type": "execute_result"
    }
   ],
   "source": [
    "s_count = s.value_counts()\n",
    "for i in range(80):\n",
    "    s_count.loc[7] = s_count.get(7, 0) + s_count.get(0, 0)\n",
    "    s_count.loc[9] = s_count.get(0, 0)\n",
    "    s_count = s_count.drop(index=0, errors='ignore')\n",
    "    s_count.index -= 1\n",
    "s_count.sum()"
   ]
  },
  {
   "cell_type": "code",
   "execution_count": 30,
   "id": "ab0593fe",
   "metadata": {},
   "outputs": [
    {
     "data": {
      "text/plain": [
       "1770823541496"
      ]
     },
     "execution_count": 30,
     "metadata": {},
     "output_type": "execute_result"
    }
   ],
   "source": [
    "s_count = s.value_counts()\n",
    "for i in range(256):\n",
    "    s_count.loc[7] = s_count.get(7, 0) + s_count.get(0, 0)\n",
    "    s_count.loc[9] = s_count.get(0, 0)\n",
    "    s_count = s_count.drop(index=0, errors='ignore')\n",
    "    s_count.index -= 1\n",
    "s_count.sum()"
   ]
  },
  {
   "cell_type": "code",
   "execution_count": 31,
   "id": "3e9666c6",
   "metadata": {},
   "outputs": [
    {
     "data": {
      "text/plain": [
       "396210"
      ]
     },
     "execution_count": 31,
     "metadata": {},
     "output_type": "execute_result"
    }
   ],
   "source": [
    "s_count = s.value_counts()\n",
    "for i in range(80):\n",
    "    s_count.index -= 1\n",
    "    s_count.loc[6] = s_count.get(6, 0) + s_count.get(-1, 0)\n",
    "    s_count.loc[8] = s_count.get(-1, 0)\n",
    "    s_count = s_count.drop(index=-1, errors='ignore')\n",
    "s_count.sum()"
   ]
  },
  {
   "cell_type": "markdown",
   "id": "004e8bb0",
   "metadata": {},
   "source": [
    "## 7a"
   ]
  },
  {
   "cell_type": "code",
   "execution_count": 32,
   "id": "b1d77275",
   "metadata": {},
   "outputs": [
    {
     "data": {
      "text/plain": [
       "0    1101\n",
       "1       1\n",
       "2      29\n",
       "3      67\n",
       "4    1102\n",
       "Name: 0, dtype: int64"
      ]
     },
     "execution_count": 32,
     "metadata": {},
     "output_type": "execute_result"
    }
   ],
   "source": [
    "s = pd.read_csv('data/day7.txt', header=None).squeeze()\n",
    "s.head()"
   ]
  },
  {
   "cell_type": "code",
   "execution_count": 33,
   "id": "0f6ab650",
   "metadata": {
    "scrolled": true
   },
   "outputs": [
    {
     "data": {
      "text/plain": [
       "330.0"
      ]
     },
     "execution_count": 33,
     "metadata": {},
     "output_type": "execute_result"
    }
   ],
   "source": [
    "s.median()"
   ]
  },
  {
   "cell_type": "code",
   "execution_count": 34,
   "id": "63047422",
   "metadata": {},
   "outputs": [
    {
     "data": {
      "text/plain": [
       "(330, 329389)"
      ]
     },
     "execution_count": 34,
     "metadata": {},
     "output_type": "execute_result"
    }
   ],
   "source": [
    "min_val = 0\n",
    "fuel = np.inf\n",
    "for i in range(s.max()):\n",
    "    cur_fuel = (s - i).abs().sum()\n",
    "    if cur_fuel < fuel:\n",
    "        fuel = cur_fuel\n",
    "        min_val = i\n",
    "min_val, fuel"
   ]
  },
  {
   "cell_type": "markdown",
   "id": "ce876565",
   "metadata": {},
   "source": [
    "## 7b"
   ]
  },
  {
   "cell_type": "code",
   "execution_count": 35,
   "id": "514ea4ae",
   "metadata": {},
   "outputs": [
    {
     "data": {
      "text/plain": [
       "(459, 86397080.0)"
      ]
     },
     "execution_count": 35,
     "metadata": {},
     "output_type": "execute_result"
    }
   ],
   "source": [
    "min_val = 0\n",
    "fuel = np.inf\n",
    "for i in range(s.max()):\n",
    "    cur_fuel = (s - i).abs()\n",
    "    cur_fuel = (cur_fuel * (cur_fuel + 1) / 2).sum()\n",
    "    if cur_fuel < fuel:\n",
    "        fuel = cur_fuel\n",
    "        min_val = i\n",
    "min_val, fuel"
   ]
  },
  {
   "cell_type": "markdown",
   "id": "1acab850",
   "metadata": {},
   "source": [
    "## 8a"
   ]
  },
  {
   "cell_type": "code",
   "execution_count": 36,
   "id": "2d6d2d20",
   "metadata": {},
   "outputs": [
    {
     "data": {
      "text/html": [
       "<div>\n",
       "<style scoped>\n",
       "    .dataframe tbody tr th:only-of-type {\n",
       "        vertical-align: middle;\n",
       "    }\n",
       "\n",
       "    .dataframe tbody tr th {\n",
       "        vertical-align: top;\n",
       "    }\n",
       "\n",
       "    .dataframe thead th {\n",
       "        text-align: right;\n",
       "    }\n",
       "</style>\n",
       "<table border=\"1\" class=\"dataframe\">\n",
       "  <thead>\n",
       "    <tr style=\"text-align: right;\">\n",
       "      <th></th>\n",
       "      <th>0</th>\n",
       "      <th>1</th>\n",
       "      <th>2</th>\n",
       "      <th>3</th>\n",
       "      <th>4</th>\n",
       "      <th>5</th>\n",
       "      <th>6</th>\n",
       "      <th>7</th>\n",
       "      <th>8</th>\n",
       "      <th>9</th>\n",
       "      <th>10</th>\n",
       "      <th>11</th>\n",
       "      <th>12</th>\n",
       "      <th>13</th>\n",
       "    </tr>\n",
       "  </thead>\n",
       "  <tbody>\n",
       "    <tr>\n",
       "      <th>0</th>\n",
       "      <td>ecbad</td>\n",
       "      <td>fdeacg</td>\n",
       "      <td>gaecbd</td>\n",
       "      <td>gbae</td>\n",
       "      <td>gfcdbea</td>\n",
       "      <td>cadge</td>\n",
       "      <td>fcagdb</td>\n",
       "      <td>abc</td>\n",
       "      <td>cfdbe</td>\n",
       "      <td>ab</td>\n",
       "      <td>beag</td>\n",
       "      <td>bac</td>\n",
       "      <td>dacgbe</td>\n",
       "      <td>aegb</td>\n",
       "    </tr>\n",
       "    <tr>\n",
       "      <th>1</th>\n",
       "      <td>gad</td>\n",
       "      <td>agcfb</td>\n",
       "      <td>afegcd</td>\n",
       "      <td>afed</td>\n",
       "      <td>gacdf</td>\n",
       "      <td>gdfce</td>\n",
       "      <td>ad</td>\n",
       "      <td>cfdgbe</td>\n",
       "      <td>cfgdeba</td>\n",
       "      <td>bdcgea</td>\n",
       "      <td>gbdecf</td>\n",
       "      <td>cdgeaf</td>\n",
       "      <td>abcgde</td>\n",
       "      <td>ad</td>\n",
       "    </tr>\n",
       "    <tr>\n",
       "      <th>2</th>\n",
       "      <td>ebadf</td>\n",
       "      <td>ag</td>\n",
       "      <td>efgcdab</td>\n",
       "      <td>fgced</td>\n",
       "      <td>edgbcf</td>\n",
       "      <td>begcfa</td>\n",
       "      <td>adgef</td>\n",
       "      <td>gcaedf</td>\n",
       "      <td>afg</td>\n",
       "      <td>dgca</td>\n",
       "      <td>agcd</td>\n",
       "      <td>agdc</td>\n",
       "      <td>fagcbde</td>\n",
       "      <td>gfa</td>\n",
       "    </tr>\n",
       "    <tr>\n",
       "      <th>3</th>\n",
       "      <td>bgaefd</td>\n",
       "      <td>gfcbe</td>\n",
       "      <td>fgeda</td>\n",
       "      <td>dbf</td>\n",
       "      <td>dafbgc</td>\n",
       "      <td>dfbge</td>\n",
       "      <td>bd</td>\n",
       "      <td>bdgcaef</td>\n",
       "      <td>dfecga</td>\n",
       "      <td>ebad</td>\n",
       "      <td>dbf</td>\n",
       "      <td>db</td>\n",
       "      <td>edab</td>\n",
       "      <td>dbf</td>\n",
       "    </tr>\n",
       "    <tr>\n",
       "      <th>4</th>\n",
       "      <td>ebfcgd</td>\n",
       "      <td>fedbc</td>\n",
       "      <td>adc</td>\n",
       "      <td>da</td>\n",
       "      <td>gafdce</td>\n",
       "      <td>bdaec</td>\n",
       "      <td>bdcegaf</td>\n",
       "      <td>edbafc</td>\n",
       "      <td>bdfa</td>\n",
       "      <td>gbcea</td>\n",
       "      <td>afbcedg</td>\n",
       "      <td>cedbf</td>\n",
       "      <td>decfb</td>\n",
       "      <td>eacbg</td>\n",
       "    </tr>\n",
       "  </tbody>\n",
       "</table>\n",
       "</div>"
      ],
      "text/plain": [
       "       0       1        2      3        4       5        6        7        8   \\\n",
       "0   ecbad  fdeacg   gaecbd   gbae  gfcdbea   cadge   fcagdb      abc    cfdbe   \n",
       "1     gad   agcfb   afegcd   afed    gacdf   gdfce       ad   cfdgbe  cfgdeba   \n",
       "2   ebadf      ag  efgcdab  fgced   edgbcf  begcfa    adgef   gcaedf      afg   \n",
       "3  bgaefd   gfcbe    fgeda    dbf   dafbgc   dfbge       bd  bdgcaef   dfecga   \n",
       "4  ebfcgd   fedbc      adc     da   gafdce   bdaec  bdcegaf   edbafc     bdfa   \n",
       "\n",
       "       9        10      11       12     13  \n",
       "0      ab     beag     bac   dacgbe   aegb  \n",
       "1  bdcgea   gbdecf  cdgeaf   abcgde     ad  \n",
       "2    dgca     agcd    agdc  fagcbde    gfa  \n",
       "3    ebad      dbf      db     edab    dbf  \n",
       "4   gbcea  afbcedg   cedbf    decfb  eacbg  "
      ]
     },
     "execution_count": 36,
     "metadata": {},
     "output_type": "execute_result"
    }
   ],
   "source": [
    "df = pd.read_csv('data/day8.txt', sep=r' \\|? *', \n",
    "                 header=None, engine='python')\n",
    "df.head()"
   ]
  },
  {
   "cell_type": "code",
   "execution_count": 37,
   "id": "0b980acb",
   "metadata": {},
   "outputs": [
    {
     "data": {
      "text/plain": [
       "456"
      ]
     },
     "execution_count": 37,
     "metadata": {},
     "output_type": "execute_result"
    }
   ],
   "source": [
    "df.iloc[:, -4:].stack().str.len().isin([2, 3, 4, 7]).sum().sum()"
   ]
  },
  {
   "cell_type": "markdown",
   "id": "4086b7d5",
   "metadata": {},
   "source": [
    "## 8b"
   ]
  },
  {
   "cell_type": "code",
   "execution_count": 38,
   "id": "32a6c876",
   "metadata": {},
   "outputs": [],
   "source": [
    "s = df.iloc[0, :10].apply(set)\n",
    "s_len = s.str.len()\n",
    "d = {}\n",
    "for i, val in s_len.items():\n",
    "    if val == 2:\n",
    "        d[1] = s.pop(i)\n",
    "    elif val == 3:\n",
    "        d[7] = s.pop(i)\n",
    "    elif val == 4:\n",
    "        d[4] = s.pop(i)\n",
    "    elif val == 7:\n",
    "        d[8] = s.pop(i)\n",
    "middle_l = d[4] - d[1]\n",
    "bottom_l = d[8] - d[4] - d[7]\n",
    "capital_e = d[8] - d[1]\n",
    "almost_0 = bottom_l | d[7]\n",
    "almost_9 = d[4] | d[7]\n",
    "\n",
    "for val in s:\n",
    "    if len(val) == 5:\n",
    "        if bottom_l.issubset(val):\n",
    "            d[2] = val\n",
    "        elif middle_l.issubset(val):\n",
    "            d[5] = val\n",
    "        elif d[7].issubset(val):\n",
    "            d[3] = val\n",
    "    if len(val) == 6:\n",
    "        if almost_0.issubset(val):\n",
    "            d[0] = val\n",
    "        elif capital_e.issubset(val):\n",
    "            d[6] = val\n",
    "        elif almost_9.issubset(val):\n",
    "            d[9] = val"
   ]
  },
  {
   "cell_type": "code",
   "execution_count": 39,
   "id": "b137fda8",
   "metadata": {},
   "outputs": [
    {
     "data": {
      "text/html": [
       "<div>\n",
       "<style scoped>\n",
       "    .dataframe tbody tr th:only-of-type {\n",
       "        vertical-align: middle;\n",
       "    }\n",
       "\n",
       "    .dataframe tbody tr th {\n",
       "        vertical-align: top;\n",
       "    }\n",
       "\n",
       "    .dataframe thead th {\n",
       "        text-align: right;\n",
       "    }\n",
       "</style>\n",
       "<table border=\"1\" class=\"dataframe\">\n",
       "  <thead>\n",
       "    <tr style=\"text-align: right;\">\n",
       "      <th></th>\n",
       "      <th>10</th>\n",
       "      <th>11</th>\n",
       "      <th>12</th>\n",
       "      <th>13</th>\n",
       "    </tr>\n",
       "  </thead>\n",
       "  <tbody>\n",
       "    <tr>\n",
       "      <th>0</th>\n",
       "      <td>{a, b, g, e}</td>\n",
       "      <td>{c, a, b}</td>\n",
       "      <td>{c, d, e, b, a, g}</td>\n",
       "      <td>{b, a, g, e}</td>\n",
       "    </tr>\n",
       "    <tr>\n",
       "      <th>1</th>\n",
       "      <td>{f, c, d, e, b, g}</td>\n",
       "      <td>{f, c, d, e, a, g}</td>\n",
       "      <td>{c, d, e, b, a, g}</td>\n",
       "      <td>{a, d}</td>\n",
       "    </tr>\n",
       "    <tr>\n",
       "      <th>2</th>\n",
       "      <td>{c, a, g, d}</td>\n",
       "      <td>{c, a, g, d}</td>\n",
       "      <td>{f, c, d, e, a, g, b}</td>\n",
       "      <td>{f, a, g}</td>\n",
       "    </tr>\n",
       "    <tr>\n",
       "      <th>3</th>\n",
       "      <td>{f, b, d}</td>\n",
       "      <td>{b, d}</td>\n",
       "      <td>{b, a, d, e}</td>\n",
       "      <td>{f, b, d}</td>\n",
       "    </tr>\n",
       "    <tr>\n",
       "      <th>4</th>\n",
       "      <td>{f, c, d, e, b, a, g}</td>\n",
       "      <td>{f, c, d, e, b}</td>\n",
       "      <td>{f, c, d, e, b}</td>\n",
       "      <td>{c, e, a, g, b}</td>\n",
       "    </tr>\n",
       "    <tr>\n",
       "      <th>...</th>\n",
       "      <td>...</td>\n",
       "      <td>...</td>\n",
       "      <td>...</td>\n",
       "      <td>...</td>\n",
       "    </tr>\n",
       "    <tr>\n",
       "      <th>195</th>\n",
       "      <td>{f, d, e, a, b, g}</td>\n",
       "      <td>{f, e}</td>\n",
       "      <td>{f, b, e}</td>\n",
       "      <td>{f, b, e}</td>\n",
       "    </tr>\n",
       "    <tr>\n",
       "      <th>196</th>\n",
       "      <td>{f, c, d, e, b, g, a}</td>\n",
       "      <td>{f, c, e, a, g, b}</td>\n",
       "      <td>{c, d, b, a, g}</td>\n",
       "      <td>{a, g, d, e}</td>\n",
       "    </tr>\n",
       "    <tr>\n",
       "      <th>197</th>\n",
       "      <td>{b, c, g, d}</td>\n",
       "      <td>{f, d, e, b, a}</td>\n",
       "      <td>{f, c, b, a, g}</td>\n",
       "      <td>{f, c, e, a, b, g}</td>\n",
       "    </tr>\n",
       "    <tr>\n",
       "      <th>198</th>\n",
       "      <td>{c, a, g, e}</td>\n",
       "      <td>{f, c, d, e, g}</td>\n",
       "      <td>{f, c, d, e, a}</td>\n",
       "      <td>{a, c, g, e}</td>\n",
       "    </tr>\n",
       "    <tr>\n",
       "      <th>199</th>\n",
       "      <td>{f, c, d, e, b, a}</td>\n",
       "      <td>{f, c, d, e, b, a, g}</td>\n",
       "      <td>{c, d, e}</td>\n",
       "      <td>{f, c, d, e, g}</td>\n",
       "    </tr>\n",
       "  </tbody>\n",
       "</table>\n",
       "<p>200 rows × 4 columns</p>\n",
       "</div>"
      ],
      "text/plain": [
       "                        10                     11                     12  \\\n",
       "0             {a, b, g, e}              {c, a, b}     {c, d, e, b, a, g}   \n",
       "1       {f, c, d, e, b, g}     {f, c, d, e, a, g}     {c, d, e, b, a, g}   \n",
       "2             {c, a, g, d}           {c, a, g, d}  {f, c, d, e, a, g, b}   \n",
       "3                {f, b, d}                 {b, d}           {b, a, d, e}   \n",
       "4    {f, c, d, e, b, a, g}        {f, c, d, e, b}        {f, c, d, e, b}   \n",
       "..                     ...                    ...                    ...   \n",
       "195     {f, d, e, a, b, g}                 {f, e}              {f, b, e}   \n",
       "196  {f, c, d, e, b, g, a}     {f, c, e, a, g, b}        {c, d, b, a, g}   \n",
       "197           {b, c, g, d}        {f, d, e, b, a}        {f, c, b, a, g}   \n",
       "198           {c, a, g, e}        {f, c, d, e, g}        {f, c, d, e, a}   \n",
       "199     {f, c, d, e, b, a}  {f, c, d, e, b, a, g}              {c, d, e}   \n",
       "\n",
       "                     13  \n",
       "0          {b, a, g, e}  \n",
       "1                {a, d}  \n",
       "2             {f, a, g}  \n",
       "3             {f, b, d}  \n",
       "4       {c, e, a, g, b}  \n",
       "..                  ...  \n",
       "195           {f, b, e}  \n",
       "196        {a, g, d, e}  \n",
       "197  {f, c, e, a, b, g}  \n",
       "198        {a, c, g, e}  \n",
       "199     {f, c, d, e, g}  \n",
       "\n",
       "[200 rows x 4 columns]"
      ]
     },
     "execution_count": 39,
     "metadata": {},
     "output_type": "execute_result"
    }
   ],
   "source": [
    "df.iloc[:, -4:].applymap(set)"
   ]
  },
  {
   "cell_type": "code",
   "execution_count": 40,
   "id": "1010457a",
   "metadata": {},
   "outputs": [],
   "source": [
    "def code(s):\n",
    "    s = s.apply(frozenset)\n",
    "    s1 = s.iloc[:10].copy()\n",
    "    s_len = s1.str.len()\n",
    "    d = {}\n",
    "    for i, val in s_len.items():\n",
    "        if val == 2:\n",
    "            d[1] = s1.pop(i)\n",
    "        elif val == 3:\n",
    "            d[7] = s1.pop(i)\n",
    "        elif val == 4:\n",
    "            d[4] = s1.pop(i)\n",
    "        elif val == 7:\n",
    "            d[8] = s1.pop(i)\n",
    "    middle_l = d[4] - d[1]\n",
    "    bottom_l = d[8] - d[4] - d[7]\n",
    "    capital_e = d[8] - d[1]\n",
    "    almost_0 = bottom_l | d[7]\n",
    "    almost_9 = d[4] | d[7]\n",
    "\n",
    "    for val in s1:\n",
    "        if len(val) == 5:\n",
    "            if bottom_l.issubset(val):\n",
    "                d[2] = val\n",
    "            elif middle_l.issubset(val):\n",
    "                d[5] = val\n",
    "            elif d[7].issubset(val):\n",
    "                d[3] = val\n",
    "        if len(val) == 6:\n",
    "            if almost_0.issubset(val):\n",
    "                d[0] = val\n",
    "            elif capital_e.issubset(val):\n",
    "                d[6] = val\n",
    "            elif almost_9.issubset(val):\n",
    "                d[9] = val\n",
    "    d_reverse = {frozenset(val):key for key, val in d.items()}\n",
    "    code = ''\n",
    "    for val in s.iloc[-4:]:\n",
    "        code += str(d_reverse[val])\n",
    "    return int(code)"
   ]
  },
  {
   "cell_type": "code",
   "execution_count": 41,
   "id": "3ce70808",
   "metadata": {},
   "outputs": [
    {
     "data": {
      "text/plain": [
       "1091609"
      ]
     },
     "execution_count": 41,
     "metadata": {},
     "output_type": "execute_result"
    }
   ],
   "source": [
    "df.apply(code, axis=1).sum()"
   ]
  },
  {
   "cell_type": "markdown",
   "id": "af4f3695",
   "metadata": {},
   "source": [
    "## 9a"
   ]
  },
  {
   "cell_type": "code",
   "execution_count": 42,
   "id": "d2d709d7",
   "metadata": {},
   "outputs": [
    {
     "data": {
      "text/html": [
       "<div>\n",
       "<style scoped>\n",
       "    .dataframe tbody tr th:only-of-type {\n",
       "        vertical-align: middle;\n",
       "    }\n",
       "\n",
       "    .dataframe tbody tr th {\n",
       "        vertical-align: top;\n",
       "    }\n",
       "\n",
       "    .dataframe thead th {\n",
       "        text-align: right;\n",
       "    }\n",
       "</style>\n",
       "<table border=\"1\" class=\"dataframe\">\n",
       "  <thead>\n",
       "    <tr style=\"text-align: right;\">\n",
       "      <th></th>\n",
       "      <th>0</th>\n",
       "      <th>1</th>\n",
       "      <th>2</th>\n",
       "      <th>3</th>\n",
       "      <th>4</th>\n",
       "      <th>5</th>\n",
       "      <th>6</th>\n",
       "      <th>7</th>\n",
       "      <th>8</th>\n",
       "      <th>9</th>\n",
       "      <th>10</th>\n",
       "      <th>11</th>\n",
       "      <th>12</th>\n",
       "      <th>13</th>\n",
       "      <th>14</th>\n",
       "      <th>15</th>\n",
       "      <th>16</th>\n",
       "      <th>17</th>\n",
       "      <th>18</th>\n",
       "      <th>19</th>\n",
       "      <th>20</th>\n",
       "      <th>21</th>\n",
       "      <th>22</th>\n",
       "      <th>23</th>\n",
       "      <th>24</th>\n",
       "      <th>...</th>\n",
       "      <th>75</th>\n",
       "      <th>76</th>\n",
       "      <th>77</th>\n",
       "      <th>78</th>\n",
       "      <th>79</th>\n",
       "      <th>80</th>\n",
       "      <th>81</th>\n",
       "      <th>82</th>\n",
       "      <th>83</th>\n",
       "      <th>84</th>\n",
       "      <th>85</th>\n",
       "      <th>86</th>\n",
       "      <th>87</th>\n",
       "      <th>88</th>\n",
       "      <th>89</th>\n",
       "      <th>90</th>\n",
       "      <th>91</th>\n",
       "      <th>92</th>\n",
       "      <th>93</th>\n",
       "      <th>94</th>\n",
       "      <th>95</th>\n",
       "      <th>96</th>\n",
       "      <th>97</th>\n",
       "      <th>98</th>\n",
       "      <th>99</th>\n",
       "    </tr>\n",
       "  </thead>\n",
       "  <tbody>\n",
       "    <tr>\n",
       "      <th>0</th>\n",
       "      <td>5</td>\n",
       "      <td>4</td>\n",
       "      <td>5</td>\n",
       "      <td>6</td>\n",
       "      <td>7</td>\n",
       "      <td>8</td>\n",
       "      <td>9</td>\n",
       "      <td>3</td>\n",
       "      <td>4</td>\n",
       "      <td>9</td>\n",
       "      <td>8</td>\n",
       "      <td>8</td>\n",
       "      <td>6</td>\n",
       "      <td>4</td>\n",
       "      <td>5</td>\n",
       "      <td>6</td>\n",
       "      <td>8</td>\n",
       "      <td>9</td>\n",
       "      <td>0</td>\n",
       "      <td>1</td>\n",
       "      <td>2</td>\n",
       "      <td>3</td>\n",
       "      <td>9</td>\n",
       "      <td>8</td>\n",
       "      <td>5</td>\n",
       "      <td>...</td>\n",
       "      <td>5</td>\n",
       "      <td>7</td>\n",
       "      <td>8</td>\n",
       "      <td>9</td>\n",
       "      <td>7</td>\n",
       "      <td>7</td>\n",
       "      <td>8</td>\n",
       "      <td>9</td>\n",
       "      <td>9</td>\n",
       "      <td>9</td>\n",
       "      <td>9</td>\n",
       "      <td>8</td>\n",
       "      <td>9</td>\n",
       "      <td>6</td>\n",
       "      <td>5</td>\n",
       "      <td>2</td>\n",
       "      <td>3</td>\n",
       "      <td>4</td>\n",
       "      <td>9</td>\n",
       "      <td>8</td>\n",
       "      <td>7</td>\n",
       "      <td>9</td>\n",
       "      <td>8</td>\n",
       "      <td>9</td>\n",
       "      <td>9</td>\n",
       "    </tr>\n",
       "    <tr>\n",
       "      <th>1</th>\n",
       "      <td>4</td>\n",
       "      <td>3</td>\n",
       "      <td>4</td>\n",
       "      <td>9</td>\n",
       "      <td>8</td>\n",
       "      <td>9</td>\n",
       "      <td>1</td>\n",
       "      <td>2</td>\n",
       "      <td>9</td>\n",
       "      <td>8</td>\n",
       "      <td>7</td>\n",
       "      <td>6</td>\n",
       "      <td>5</td>\n",
       "      <td>3</td>\n",
       "      <td>4</td>\n",
       "      <td>8</td>\n",
       "      <td>7</td>\n",
       "      <td>8</td>\n",
       "      <td>9</td>\n",
       "      <td>3</td>\n",
       "      <td>3</td>\n",
       "      <td>9</td>\n",
       "      <td>8</td>\n",
       "      <td>7</td>\n",
       "      <td>5</td>\n",
       "      <td>...</td>\n",
       "      <td>7</td>\n",
       "      <td>8</td>\n",
       "      <td>9</td>\n",
       "      <td>3</td>\n",
       "      <td>5</td>\n",
       "      <td>6</td>\n",
       "      <td>9</td>\n",
       "      <td>9</td>\n",
       "      <td>9</td>\n",
       "      <td>8</td>\n",
       "      <td>8</td>\n",
       "      <td>7</td>\n",
       "      <td>9</td>\n",
       "      <td>9</td>\n",
       "      <td>3</td>\n",
       "      <td>1</td>\n",
       "      <td>9</td>\n",
       "      <td>9</td>\n",
       "      <td>8</td>\n",
       "      <td>7</td>\n",
       "      <td>6</td>\n",
       "      <td>5</td>\n",
       "      <td>6</td>\n",
       "      <td>6</td>\n",
       "      <td>8</td>\n",
       "    </tr>\n",
       "    <tr>\n",
       "      <th>2</th>\n",
       "      <td>1</td>\n",
       "      <td>2</td>\n",
       "      <td>9</td>\n",
       "      <td>8</td>\n",
       "      <td>9</td>\n",
       "      <td>1</td>\n",
       "      <td>0</td>\n",
       "      <td>9</td>\n",
       "      <td>8</td>\n",
       "      <td>9</td>\n",
       "      <td>8</td>\n",
       "      <td>7</td>\n",
       "      <td>3</td>\n",
       "      <td>2</td>\n",
       "      <td>3</td>\n",
       "      <td>4</td>\n",
       "      <td>5</td>\n",
       "      <td>9</td>\n",
       "      <td>5</td>\n",
       "      <td>4</td>\n",
       "      <td>9</td>\n",
       "      <td>8</td>\n",
       "      <td>7</td>\n",
       "      <td>6</td>\n",
       "      <td>4</td>\n",
       "      <td>...</td>\n",
       "      <td>8</td>\n",
       "      <td>9</td>\n",
       "      <td>5</td>\n",
       "      <td>4</td>\n",
       "      <td>6</td>\n",
       "      <td>7</td>\n",
       "      <td>8</td>\n",
       "      <td>9</td>\n",
       "      <td>8</td>\n",
       "      <td>7</td>\n",
       "      <td>9</td>\n",
       "      <td>6</td>\n",
       "      <td>8</td>\n",
       "      <td>8</td>\n",
       "      <td>9</td>\n",
       "      <td>9</td>\n",
       "      <td>8</td>\n",
       "      <td>9</td>\n",
       "      <td>7</td>\n",
       "      <td>6</td>\n",
       "      <td>5</td>\n",
       "      <td>4</td>\n",
       "      <td>4</td>\n",
       "      <td>5</td>\n",
       "      <td>7</td>\n",
       "    </tr>\n",
       "    <tr>\n",
       "      <th>3</th>\n",
       "      <td>2</td>\n",
       "      <td>9</td>\n",
       "      <td>8</td>\n",
       "      <td>7</td>\n",
       "      <td>9</td>\n",
       "      <td>3</td>\n",
       "      <td>9</td>\n",
       "      <td>8</td>\n",
       "      <td>7</td>\n",
       "      <td>5</td>\n",
       "      <td>4</td>\n",
       "      <td>3</td>\n",
       "      <td>2</td>\n",
       "      <td>1</td>\n",
       "      <td>2</td>\n",
       "      <td>3</td>\n",
       "      <td>4</td>\n",
       "      <td>8</td>\n",
       "      <td>9</td>\n",
       "      <td>9</td>\n",
       "      <td>9</td>\n",
       "      <td>9</td>\n",
       "      <td>9</td>\n",
       "      <td>5</td>\n",
       "      <td>3</td>\n",
       "      <td>...</td>\n",
       "      <td>9</td>\n",
       "      <td>9</td>\n",
       "      <td>6</td>\n",
       "      <td>5</td>\n",
       "      <td>7</td>\n",
       "      <td>8</td>\n",
       "      <td>9</td>\n",
       "      <td>8</td>\n",
       "      <td>7</td>\n",
       "      <td>6</td>\n",
       "      <td>8</td>\n",
       "      <td>5</td>\n",
       "      <td>6</td>\n",
       "      <td>7</td>\n",
       "      <td>8</td>\n",
       "      <td>9</td>\n",
       "      <td>7</td>\n",
       "      <td>8</td>\n",
       "      <td>9</td>\n",
       "      <td>5</td>\n",
       "      <td>4</td>\n",
       "      <td>3</td>\n",
       "      <td>3</td>\n",
       "      <td>4</td>\n",
       "      <td>5</td>\n",
       "    </tr>\n",
       "    <tr>\n",
       "      <th>4</th>\n",
       "      <td>9</td>\n",
       "      <td>8</td>\n",
       "      <td>9</td>\n",
       "      <td>6</td>\n",
       "      <td>8</td>\n",
       "      <td>9</td>\n",
       "      <td>9</td>\n",
       "      <td>9</td>\n",
       "      <td>8</td>\n",
       "      <td>4</td>\n",
       "      <td>3</td>\n",
       "      <td>2</td>\n",
       "      <td>1</td>\n",
       "      <td>0</td>\n",
       "      <td>1</td>\n",
       "      <td>2</td>\n",
       "      <td>6</td>\n",
       "      <td>6</td>\n",
       "      <td>8</td>\n",
       "      <td>8</td>\n",
       "      <td>9</td>\n",
       "      <td>9</td>\n",
       "      <td>8</td>\n",
       "      <td>6</td>\n",
       "      <td>5</td>\n",
       "      <td>...</td>\n",
       "      <td>7</td>\n",
       "      <td>8</td>\n",
       "      <td>9</td>\n",
       "      <td>6</td>\n",
       "      <td>8</td>\n",
       "      <td>9</td>\n",
       "      <td>8</td>\n",
       "      <td>7</td>\n",
       "      <td>6</td>\n",
       "      <td>5</td>\n",
       "      <td>9</td>\n",
       "      <td>4</td>\n",
       "      <td>5</td>\n",
       "      <td>6</td>\n",
       "      <td>9</td>\n",
       "      <td>7</td>\n",
       "      <td>6</td>\n",
       "      <td>9</td>\n",
       "      <td>8</td>\n",
       "      <td>7</td>\n",
       "      <td>2</td>\n",
       "      <td>2</td>\n",
       "      <td>2</td>\n",
       "      <td>5</td>\n",
       "      <td>6</td>\n",
       "    </tr>\n",
       "  </tbody>\n",
       "</table>\n",
       "<p>5 rows × 100 columns</p>\n",
       "</div>"
      ],
      "text/plain": [
       "   0   1   2   3   4   5   6   7   8   9   10  11  12  13  14  15  16  17  18  \\\n",
       "0   5   4   5   6   7   8   9   3   4   9   8   8   6   4   5   6   8   9   0   \n",
       "1   4   3   4   9   8   9   1   2   9   8   7   6   5   3   4   8   7   8   9   \n",
       "2   1   2   9   8   9   1   0   9   8   9   8   7   3   2   3   4   5   9   5   \n",
       "3   2   9   8   7   9   3   9   8   7   5   4   3   2   1   2   3   4   8   9   \n",
       "4   9   8   9   6   8   9   9   9   8   4   3   2   1   0   1   2   6   6   8   \n",
       "\n",
       "   19  20  21  22  23  24  ...  75  76  77  78  79  80  81  82  83  84  85  \\\n",
       "0   1   2   3   9   8   5  ...   5   7   8   9   7   7   8   9   9   9   9   \n",
       "1   3   3   9   8   7   5  ...   7   8   9   3   5   6   9   9   9   8   8   \n",
       "2   4   9   8   7   6   4  ...   8   9   5   4   6   7   8   9   8   7   9   \n",
       "3   9   9   9   9   5   3  ...   9   9   6   5   7   8   9   8   7   6   8   \n",
       "4   8   9   9   8   6   5  ...   7   8   9   6   8   9   8   7   6   5   9   \n",
       "\n",
       "   86  87  88  89  90  91  92  93  94  95  96  97  98  99  \n",
       "0   8   9   6   5   2   3   4   9   8   7   9   8   9   9  \n",
       "1   7   9   9   3   1   9   9   8   7   6   5   6   6   8  \n",
       "2   6   8   8   9   9   8   9   7   6   5   4   4   5   7  \n",
       "3   5   6   7   8   9   7   8   9   5   4   3   3   4   5  \n",
       "4   4   5   6   9   7   6   9   8   7   2   2   2   5   6  \n",
       "\n",
       "[5 rows x 100 columns]"
      ]
     },
     "execution_count": 42,
     "metadata": {},
     "output_type": "execute_result"
    }
   ],
   "source": [
    "pd.options.display.max_columns = 50\n",
    "s = pd.read_csv('data/day9.txt', header=None, dtype='str').squeeze()\n",
    "df = s.str.split('', expand=True).iloc[:, 1:-1].astype('int')\n",
    "df.columns = range(len(df.columns))\n",
    "df.head()"
   ]
  },
  {
   "cell_type": "code",
   "execution_count": 43,
   "id": "7a007c28",
   "metadata": {},
   "outputs": [
    {
     "data": {
      "text/plain": [
       "506.0"
      ]
     },
     "execution_count": 43,
     "metadata": {},
     "output_type": "execute_result"
    }
   ],
   "source": [
    "mask = ((df.diff().fillna(-1) < 0) & \n",
    "        (df.diff(-1).fillna(-1) < 0) & \n",
    "        (df.diff(axis=1).fillna(-1) < 0) & \n",
    "        (df.diff(-1, axis=1).fillna(-1) < 0))\n",
    "df.where(mask).stack().add(1).sum()"
   ]
  },
  {
   "cell_type": "markdown",
   "id": "d28d7841",
   "metadata": {},
   "source": [
    "## 9b"
   ]
  },
  {
   "cell_type": "code",
   "execution_count": 44,
   "id": "e9ac9086",
   "metadata": {},
   "outputs": [
    {
     "data": {
      "text/plain": [
       "0  18    0\n",
       "   38    1\n",
       "   61    2\n",
       "1  47    4\n",
       "   72    1\n",
       "dtype: int64"
      ]
     },
     "execution_count": 44,
     "metadata": {},
     "output_type": "execute_result"
    }
   ],
   "source": [
    "low_points = df.where(mask).stack().astype('int')\n",
    "low_points.head()"
   ]
  },
  {
   "cell_type": "code",
   "execution_count": 45,
   "id": "08ec6fbc",
   "metadata": {},
   "outputs": [],
   "source": [
    "def get_next_indexes(cur_idx):\n",
    "    global known_indexes\n",
    "    cur_val = df.iloc[cur_idx[0], cur_idx[1]]\n",
    "    left = cur_idx[0], cur_idx[1] - 1\n",
    "    right = cur_idx[0], cur_idx[1] + 1\n",
    "    up = cur_idx[0] - 1, cur_idx[1]\n",
    "    down = cur_idx[0] + 1, cur_idx[1]\n",
    "    new_indexes = [left, right, up, down]\n",
    "    kept_indexes = {idx for idx in new_indexes if idx not in known_indexes and\n",
    "                                                  idx[0] >= 0 and idx[1] >= 0 and \n",
    "                                                  idx[0] < 100 and idx[1] < 100 and\n",
    "                                                  cur_val < df.iloc[idx[0], idx[1]] < 9}\n",
    "    known_indexes = known_indexes | kept_indexes\n",
    "\n",
    "    for idx in kept_indexes:\n",
    "        get_next_indexes(idx)"
   ]
  },
  {
   "cell_type": "code",
   "execution_count": 46,
   "id": "28779dd5",
   "metadata": {},
   "outputs": [],
   "source": [
    "basins = []\n",
    "for cur_idx in low_points.index:\n",
    "    known_indexes = {cur_idx}\n",
    "    get_next_indexes(cur_idx)\n",
    "    basins.append(len(known_indexes))"
   ]
  },
  {
   "cell_type": "code",
   "execution_count": 47,
   "id": "9688b5ca",
   "metadata": {},
   "outputs": [
    {
     "data": {
      "text/plain": [
       "931200"
      ]
     },
     "execution_count": 47,
     "metadata": {},
     "output_type": "execute_result"
    }
   ],
   "source": [
    "pd.Series(basins).nlargest(3).prod()"
   ]
  },
  {
   "cell_type": "markdown",
   "id": "b7fdb28c",
   "metadata": {},
   "source": [
    "## 10 a and b"
   ]
  },
  {
   "cell_type": "code",
   "execution_count": 48,
   "id": "910642e9",
   "metadata": {},
   "outputs": [
    {
     "data": {
      "text/plain": [
       "'{<{<{[<[{{([{{{}()}<{}()>}<[{}]>]<<{{}<>}([]<>)>[({}<>){()[]}]>)[[([(){}][<><>])<<()>{()()}>]]}}[(<{[(<>'"
      ]
     },
     "execution_count": 48,
     "metadata": {},
     "output_type": "execute_result"
    }
   ],
   "source": [
    "s = pd.read_csv('data/day10.txt', header=None).squeeze()\n",
    "s.iloc[0]"
   ]
  },
  {
   "cell_type": "code",
   "execution_count": 49,
   "id": "4cd482ab",
   "metadata": {},
   "outputs": [],
   "source": [
    "left = '([{<'\n",
    "right = ')]}>'\n",
    "points = {')': 3, ']': 57, '}': 1197, '>': 25137}\n",
    "def find_points(chars):\n",
    "    stack = []\n",
    "    for char in chars:\n",
    "        # find corrupted\n",
    "        if char in left:\n",
    "            stack.append(char)\n",
    "        else:\n",
    "            matched_left = left[right.index(char)]\n",
    "            if stack.pop() != matched_left:\n",
    "                return points[char]\n",
    "    \n",
    "    # only run for uncomplete\n",
    "    score = 0\n",
    "    for char in reversed(stack):\n",
    "        point = left.index(char) + 1\n",
    "        score = score * 5 + point\n",
    "    return -score"
   ]
  },
  {
   "cell_type": "code",
   "execution_count": 50,
   "id": "69852866",
   "metadata": {},
   "outputs": [],
   "source": [
    "s1 = s.apply(find_points)"
   ]
  },
  {
   "cell_type": "code",
   "execution_count": 51,
   "id": "b114fe3f",
   "metadata": {},
   "outputs": [
    {
     "data": {
      "text/plain": [
       "319233"
      ]
     },
     "execution_count": 51,
     "metadata": {},
     "output_type": "execute_result"
    }
   ],
   "source": [
    "s1[s1 > 0].sum()"
   ]
  },
  {
   "cell_type": "code",
   "execution_count": 52,
   "id": "b4d3c590",
   "metadata": {},
   "outputs": [
    {
     "data": {
      "text/plain": [
       "1118976874.0"
      ]
     },
     "execution_count": 52,
     "metadata": {},
     "output_type": "execute_result"
    }
   ],
   "source": [
    "-s1[s1 < 0].median()"
   ]
  }
 ],
 "metadata": {
  "kernelspec": {
   "display_name": "Python 3 (ipykernel)",
   "language": "python",
   "name": "python3"
  },
  "language_info": {
   "codemirror_mode": {
    "name": "ipython",
    "version": 3
   },
   "file_extension": ".py",
   "mimetype": "text/x-python",
   "name": "python",
   "nbconvert_exporter": "python",
   "pygments_lexer": "ipython3",
   "version": "3.8.11"
  }
 },
 "nbformat": 4,
 "nbformat_minor": 5
}
